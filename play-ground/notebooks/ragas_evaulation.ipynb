{
 "cells": [
  {
   "cell_type": "code",
   "execution_count": 1,
   "metadata": {},
   "outputs": [],
   "source": [
    "%%capture\n",
    "%pip install -U langchain\n",
    "%pip install -U openai\n",
    "%pip install -U ragas\n",
    "%pip install -U arxiv\n",
    "%pip install -U pymupdf\n",
    "%pip install -U chromadb\n",
    "%pip install -U tiktoken\n",
    "%pip install -U accelerate\n",
    "%pip install -U bitsandbytes\n",
    "%pip install -U datasets\n",
    "%pip install -U sentence_transformers\n",
    "%pip install -U FlagEmbedding\n",
    "%pip install -U ninja\n",
    "%pip install -U flash_attn --no-build-isolation\n",
    "%pip install -U tqdm\n",
    "%pip install -U rank_bm25\n",
    "%pip install -U transformers"
   ]
  },
  {
   "cell_type": "code",
   "execution_count": 3,
   "metadata": {},
   "outputs": [],
   "source": [
    "import os\n",
    "import openai\n",
    "from getpass import getpass\n",
    "\n",
    "openai.api_key = getpass(\"Please provide your OpenAI Key: \")\n",
    "os.environ[\"OPENAI_API_KEY\"] = openai.api_key"
   ]
  },
  {
   "cell_type": "code",
   "execution_count": 1,
   "metadata": {},
   "outputs": [
    {
     "data": {
      "text/plain": [
       "5"
      ]
     },
     "execution_count": 1,
     "metadata": {},
     "output_type": "execute_result"
    }
   ],
   "source": [
    "from langchain.document_loaders import ArxivLoader\n",
    "\n",
    "base_docs = ArxivLoader(query=\"Retrieval Augmented Generation\", load_max_docs=5).load()\n",
    "len(base_docs)"
   ]
  },
  {
   "cell_type": "code",
   "execution_count": 7,
   "metadata": {},
   "outputs": [
    {
     "name": "stdout",
     "output_type": "stream",
     "text": [
      "Document(page_content='A Survey on Retrieval-Augmented Text Generation\\nHuayang Li♥,∗\\nYixuan Su♠,∗\\nDeng Cai♦,∗\\nYan Wang♣,∗\\nLemao Liu♣,∗\\n♥Nara Institute of Science and Technology\\n♠University of Cambridge\\n♦The Chinese University of Hong Kong\\n♣Tencent AI Lab\\nli.huayang.lh6@is.naist.jp, ys484@cam.ac.uk\\nthisisjcykcd@gmail.com, brandenwang@tencent.com\\nlemaoliu@gmail.com\\nAbstract\\nRecently, retrieval-augmented text generation\\nattracted increasing attention of the compu-\\ntational linguistics community.\\nCompared\\nwith conventional generation models, retrieval-\\naugmented text generation has remarkable ad-\\nvantages and particularly has achieved state-of-\\nthe-art performance in many NLP tasks. This\\npaper aims to conduct a survey about retrieval-\\naugmented text generation. It ﬁrstly highlights\\nthe generic paradigm of retrieval-augmented\\ngeneration, and then it reviews notable ap-\\nproaches according to different tasks including\\ndialogue response generation, machine trans-\\nlation, and other generation tasks. Finally, it\\npoints out some promising directions on top of\\nrecent methods to facilitate future research.\\n1\\nIntroduction\\nRetrieval-augmented text generation, as a new\\ntext generation paradigm that fuses emerging deep\\nlearning technology and traditional retrieval tech-\\nnology, has achieved state-of-the-art (SOTA) per-\\nformance in many NLP tasks and attracted the at-\\ntention of the computational linguistics community\\n(Weston et al., 2018; Dinan et al., 2018; Cai et al.,\\n2021). Compared with generation-based counter-\\npart, this new paradigm has some remarkable ad-\\nvantages: 1) The knowledge is not necessary to be\\nimplicitly stored in model parameters, but is explic-\\nitly acquired in a plug-and-play manner, leading\\nto great scalibility; 2) Instead of generating from\\nscratch, the paradigm generating text from some re-\\ntrieved human-written reference, which potentially\\nalleviates the difﬁculty of text generation.\\nThis paper aims to review many representative\\napproaches for retrieval-augmented text generation\\ntasks including dialogue response generation (We-\\nston et al., 2018), machine translation (Gu et al.,\\n2018) and others (Hashimoto et al., 2018). We\\n∗All authors contributed equally.\\nﬁrstly present the generic paradigm of retrieval-\\naugmented generation as well as three key com-\\nponents under this paradigm, which are retrieval\\nsources, retrieval metrics and generation models.\\nThen, we introduce notable methods about\\nretrieval-augmented generation, which are orga-\\nnized with respect to different tasks. Speciﬁcally,\\non the dialogue response generation task, exem-\\nplar/template retrieval as an intermediate step has\\nbeen shown beneﬁcial to informative response gen-\\neration (Weston et al., 2018; Wu et al., 2019; Cai\\net al., 2019a,b). In addition, there has been growing\\ninterest in knowledge-grounded generation explor-\\ning different forms of knowledge such as knowl-\\nedge bases and external documents (Dinan et al.,\\n2018; Zhou et al., 2018; Lian et al., 2019; Li et al.,\\n2019; Qin et al., 2019; Wu et al., 2021; Zhang et al.,\\n2021). On the machine translation task, we summa-\\nrize the early work on how the retrieved sentences\\n(called translation memory) are used to improve\\nstatistical machine translation (SMT) (Koehn et al.,\\n2003) models (Simard and Isabelle, 2009; Koehn\\nand Senellart, 2010) and in particular, we inten-\\nsively highlight several popular methods to inte-\\ngrating translation memory to NMT models (Gu\\net al., 2018; Zhang et al., 2018; Xu et al., 2020;\\nHe et al., 2021). We also review the applications\\nof retrieval-augmented generation in other genera-\\ntion tasks such as abstractive summarization (Peng\\net al., 2019), code generation (Hashimoto et al.,\\n2018), paraphrase (Kazemnejad et al., 2020; Su\\net al., 2021b), and knowledge-intensive generation\\n(Lewis et al., 2020b). Finally, we also point out\\nsome promising directions on retrieval-augmented\\ngeneration to push forward the future research.\\n2\\nRetrieval-Augmented Paradigm\\nIn this section, we ﬁrst give a general formulation\\nof retrieval-augmented text generation. Then, we\\ndiscuss three major components of the retrieval-\\naugmented generation paradigm, including the re-\\narXiv:2202.01110v2  [cs.CL]  13 Feb 2022\\nInput\\nSources \\n(Sec. 2.2):\\nTraining \\nCorpus\\nExternal Data\\nUnsupervised \\nData\\nMetrics\\n(Sec. 2.3):\\nSparse-vector \\nRetrieval\\nDense-vector \\nRetrieval\\nTask-specific \\nRetrieval\\nRetrieval Memory\\nGeneration Model\\nSec. 4: Machine \\nTranslation\\nSec. 5: Other \\nTasks\\nData \\nAugmentation\\nAttention \\nMechanism\\nSkeleton & \\nTemplates\\nInformation Retrieval\\nTasks:\\nSec. 3: Dialogue \\nGeneration\\nModels \\n(Sec 2.4):\\nOutput\\nFigure 1: The overview of this survey.\\ntrieval source, retrieval metric and integration meth-\\nods.\\n2.1\\nFormulation\\nMost text generation tasks can be formulated as a\\nmapping from input sequence x to output sequence\\ny : y = f(x). For instance, x and y could be the\\ndialogue history and the corresponding response\\nfor dialogue response generation, the text in the\\nsource language and the translation in the target\\nlanguage for machine translation, and so on.\\nRecently, some researchers suggest to endow\\nmodels the capability to access external memory\\nvia some information retrieval techniques, so that\\nthey can acquire more information in the generation\\nprocess (Gu et al., 2018; Weston et al., 2018; Cai\\net al., 2019b). The retrieval-augmented generation\\ncan be further formulated as:\\ny = f(x, z)\\n(1)\\nwhere z = {⟨xr, yr⟩} is a set of relevant instances\\nretrieved from the original training set or external\\ndatasets. The main idea of this paradigm is that yr\\nmay beneﬁt the response generation, if xr (or yr)\\nis similar (or relevant) to the input x. It is worth\\nnoting that xr = ∅ when unsupervised retrieval\\nsources are used. In general, the retrieval mem-\\nory can be retrieved from three kinds of sources:\\nthe training corpus, external datasets in the same\\nformat with the training corpus, and large-scale\\nunsupervised corpus (§2.2). Metrics that evaluate\\nthe relevance between text are varied as well, in\\n§2.3 we divided them into three categories: sparse-\\nvector retrieval, dense-vector retrieval, and training-\\nbased retrieval. Finally, how to integrate the re-\\ntrieval memory to the generation model is also sig-\\nniﬁcant, we also introduce some popular integra-\\ntion approaches in §2.4.\\n2.2\\nRetrieval Sources\\nTraining Corpus\\nMost previous studies search\\nthe external memory from its training corpus (Song\\net al., 2016; Gu et al., 2018; Weston et al., 2018).\\nIn the inference time, retrieved examples with high\\nrelevant scores could be regarded as extra refer-\\nences and reduce model’s uncertainty in generation.\\nThe main motivation of those works is to to store\\nknowledge not only in the model parameters but\\nalso in an explicit and accessible form, making the\\nmodel be able to re-access it during inference.\\nExternal Data\\nSome researchers also propose to\\nretrieval relevant samples from external datasets\\n(Su et al., 2021c; Xiao et al., 2021). In these stud-\\nies, the retrieval pool is different with the training\\ncorpus, which can further provide additional infor-\\nmation that are not contained in the training corpus.\\nThis is especially beneﬁcial for applications such\\nas domain adaptation and knowledge update. For\\nexample, Khandelwal et al. (2020a); Zheng et al.\\n(2021a) employ the in-domain dataset as the exter-\\nnal memory to achieve fast domain adaptation for\\nmachine translation.\\nUnsupervised Data\\nOne limitation for previous\\ntwo sources is that the datasets have to be super-\\nvised datasets consisting of aligned input-output\\npairs. For machine translation, Cai et al. (2021) pro-\\npose a cross-lingual retriever to directly retrieve tar-\\nget sentence from unsupervised corpus (i.e., mono-\\nlingual corpus in the target language). The main\\nidea is aligning source-side sentences and the corre-\\nsponding target-side translations in a dense vector\\nspace, i.e., aligning x and yr when xr is absent.\\nAs a result, the retriever directly connects the dots\\nbetween the source-side input and target-side trans-\\nlations, enabling monolingual data in the target\\nlanguage to be used alone as memories.\\n2.3\\nRetrieval Metrics\\nSparse-vector Retrieval\\nGiven an input se-\\nquence x and a retrieval corpus, retrieval model\\naims to retrieve a set of relevant examples z =\\n{⟨xr, yr⟩} from the corpus. When a supervised\\ncorpus is used, {⟨xr, yr⟩} is retrieved by measur-\\ning the similarity between x and xr. For simi-\\nlarity measurement, sparse-vector retrieval meth-\\nods such as TF-IDF and BM25 (Robertson and\\nZaragoza, 2009) are widely used. They match key-\\nwords efﬁciently with an inverted index.\\nDense-vector Retrieval\\nHowever, these meth-\\nods prefer examples with similar surfaces, and may\\nfail to retrieve examples that are only semantically\\nrelevant. To alleviate above problem, some stud-\\nies (Cao and Xiong, 2018) attempt to retrieve in\\ndense-vector space instead of the lexical overlap.\\nRecent work (Lee et al., 2019) makes use of pre-\\ntrained language models, which encodes the text to\\nlow-dimensional dense vectors via BERT-based en-\\ncoders. The retrieval score are computed via inner\\nproducts between vectors.\\nTask-speciﬁc\\nRetrieval\\nSimilarity-based\\nre-\\ntrieval is based on a simple heuristic. That is, the\\nmore xr resembles with x, the more likely xr\\nand yr will help the generation. However, the\\nmost similar one by universal textual similarity\\ndoes not necessarily serve the best for downstream\\nmodels.\\nIdeally, the retrieval metric would be\\nlearned from the data in a task-dependent way: we\\nwish to consider a memory only if it can indeed\\nboost the quality of ﬁnal generation. To this end,\\nCai et al. (2021) propose to unify the memory\\nretriever and its downstream generation model\\ninto a learnable whole. Such memory retrieval is\\nend-to-end optimized for task-speciﬁc objectives.\\n2.4\\nIntegration\\nData Augmentation\\nThere are several ways to\\nintegrate the retrieved external memory in gener-\\nation. One straightforward way is data augmen-\\ntation, which constructs some augmented inputs\\nby concatenating spans from {⟨xr, yr⟩} with the\\noriginal input x. By training on the augmented\\ninputs, a generation model implicitly leans how\\nto integrate the retrieved information. Despite the\\nsimplicity, this kind of methods works efﬁciently\\nin lots of tasks (Song et al., 2016; Weston et al.,\\n2018; Bulte and Tezcan, 2019).\\nAttention\\nMechanisms\\nAnother\\nintegration\\nmethod\\nis\\nbased\\non\\nattention\\nmechanisms\\n(Bahdanau et al., 2014). The main idea of this\\nfashion is adopting additional encoders (in various\\narchitectures) to encode retrieved target sentences,\\nand integrate them through attention (Cao and\\nXiong, 2018; Gu et al., 2018; Bapna and Firat,\\n2019). Since the attention mechanism is becoming\\n(Bahdanau et al., 2014; Vaswani et al., 2017) a\\nkey module in lots of NLP models, integrating\\nretrieved memory through attention becomes a\\nvery nature and efﬁcient way.\\nSkeleton Extraction\\nIn the previous two meth-\\nods, the downstream generation model learns how\\nto ﬁlter out irrelevant or even harmful informa-\\ntion from the retrieved examples implicitly. There\\nalso exist some works that try to explicitly extract\\nuseful information, i.e., skeleton extraction, from\\nthe retrieved memory (Cai et al., 2019a; Wu et al.,\\n2019; Cai et al., 2019b). For example, one skeleton\\nshould be a part of a whole utterance with irrelevant\\ncontent masked, and the generation model only in-\\ntegrate this skeleton in the generation process.\\n3\\nDialogue Response Generation\\nBackground\\nDialogue systems can be grouped\\ninto two categories: chit-chat systems and task-\\noriented systems. While task-oriented dialogue\\nsystems are designed to accomplish speciﬁc user\\ntasks such as air tickets booking, chit-chat dialogue\\nsystems aim at giving a meaningful and ﬂuent re-\\nsponse for any dialogue history in the open domain.\\nDialogue response generation in chit-chat dialogue\\nsystem is challenging partly due to the diversity\\nof possible responses to a single dialogue history\\n(i.e., the one-to-many problem). The dialogue his-\\ntory alone cannot decide a meaningful and speciﬁc\\nresponse. Also, external knowledge that is not\\npresent in the dialogue history are often necessary\\nfor avoiding safe but boring responses. We focus\\non recent efforts tackling the challenges to develop\\nchit-chat dialogue systems.\\nMost modern chit-chat dialogue systems can\\nbe categorized into two classes, namely, retrieval-\\nbased models and generation-based models. The\\nretrieval-based models (Ji et al., 2014; Hu et al.,\\n2014) directly copy an existing response from cu-\\nrated dialogue corpora (i.e., the retrieval pool)\\nwhen receiving a response request. The retrieved\\nresponses are often informative and grammatical\\nas they are collected from real-world conversa-\\ntions and possibly post-edited by a human. How-\\never, such systems perform poorly when a given\\ndialogue history is substantially different from\\nthose in the retrieval pool. On the other hand,\\nthe generation-based models (Shang et al., 2015;\\nVinyals and Le, 2015; Li et al., 2016a) generate\\na new utterance from scratch. Those generation-\\nbased models have better generalization capacity\\nwhen handling unseen dialogue contexts. Never-\\ntheless, the generated utterances are inclined to be\\ndull and non-informative (e.g., “I don’t know”, “I\\nthink so”, “Me too” etc.) (Li et al., 2016a).\\nShallow Integration\\nAs discussed, retrieval-\\nbased models may give informative but inappro-\\npriate responses while generation-based models\\noften do the opposite. It is desirable to combine the\\nbest of both worlds. Early work (Qiu et al., 2017)\\nattempts to re-rank the output from both models.\\nFor a deep integration, Song et al. (2016) and Yang\\net al. (2019) extend the standard SEQ2SEQ encoder-\\ndecoder model (Bahdanau et al., 2014) with an ex-\\ntra encoder for encoding the retrieval result. The\\noutput of the extra encoder, along with the output\\nfrom the original encoder for dialogue history, is\\nused to feed the decoder. Weston et al. (2018) use\\na single encoder that takes the concatenation of\\nthe original dialogue history and the retrieved as\\ninput. Wu et al. (2019) note that the retrieved infor-\\nmation should be used in awareness of the context\\ndifference, and further proposed to construct an\\nedit vector by explicitly encoding the lexical differ-\\nences between the input dialogue history and the\\nretrieved dialogue history. Pandey et al. (2018) fur-\\nther propose to weight different training instances\\nby context similarity.\\nDeep Integration\\nTo prevent the inﬂow of er-\\nroneous information, Cai et al. (2019a) propose\\na general framework that ﬁrst extracts a skeleton\\nfrom the retrieved response and then generates the\\nresponse based on the extracted skeleton. This\\nframework is also adopted for stylistic response\\ngeneration (Su et al., 2021c). Gupta et al. (2021)\\nsuggest to use the semantic structure of an exem-\\nplar response, instead of the tokens of the exem-\\nplar response, to guide generation. Despite their\\ndifferences, a common issue is that the genera-\\ntion model easily learns to ignore the retrieved re-\\nsponse entirely and collapses to a vanilla seq2seq\\nmodel. This happens with improper training in-\\nstances. Due to the one-to-many nature, it hap-\\npens frequently that a retrieved response (extracted\\nskeleton) is suitable for responding to the query,\\nbut inconsistent with the current target response.\\nEarlier studies (Weston et al., 2018; Wu et al.,\\n2019; Cai et al., 2019a) alleviate the above prob-\\nlems by putting hard constraints on the data (e.g.,\\ndiscarding data with low similarity of the retrieved\\nresponse and the target response), which, however,\\ngreatly reduces the amount of usable data. Cai\\net al. (2019b) employ a random mechanism for\\ngenerating the skeletons used for training, which\\nextract skeletons from the corresponding responses\\nwith some deliberate disturbance. Paranjape et al.\\n(2021) propose to model the retriever after the pos-\\nterior distribution of retrieval given the input and\\nthe target output and train it jointly with the stan-\\ndard retriever and the generator by maximizing the\\nevidence lower bound (ELBo) in expectation over\\nretrieval.\\nKnowledge-Enhanced Generation\\nThe afore-\\nmentioned work demonstrates that retrieval-based\\ndialogue systems can be used for building bet-\\nter generation-based models. In general, this is\\ndone by conditioning the generation on some re-\\ntrieved responses. More traditionally, to infuse\\nthe response with external knowledge, the retrieval\\npool is not necessarily a dialogue corpus. In fact,\\nknowledge-grounded dialogue response generation\\nexploring different forms of knowledge such as\\nknowledge bases and external documents (Dinan\\net al., 2018; Zhou et al., 2018; Lian et al., 2019;\\nLi et al., 2019; Qin et al., 2019; Wu et al., 2021;\\nZhang et al., 2021; Komeili et al., 2021) has been\\nactively explored.\\nLimitations\\nWe note that there are three major\\nlimitations in existing work for dialogue response\\ngeneration. First, current methods only use one\\nretrieved response for generation. It can be more\\nbeneﬁcial to combine multiple retrieval responses.\\nHowever, this can be difﬁcult due to the one-to-\\nmany nature of dialogue response generation. Sec-\\nond, current methods use universal relevance score\\nfor retrieval. It can be more effective if we can\\nuse more customized retrieval metric especially\\nfor controlled dialogue response generation (e.g.,\\npersona, emotion, etc). Third, the retrieval pool\\nof existing methods is limited to dialogue corpora\\n(context-response pairs) or documents. It might\\nbe useful to enlarge the retrieval pool by including\\nmore corpora in other domains or in other modali-\\nties. As discussed, there leaves plenty of possible\\ndirections to explore in the future.\\n4\\nMachine Translation\\nRetrieval augmented translation originates from hu-\\nman translation scenarios (Somers, 2003). When\\ntranslating ˆy from an input source sentence x, a hu-\\nman translator typically involves a search engine to\\nretrieve similar sentences {⟨xr, yr⟩} from a bilin-\\ngual database. Such a technique called translation\\nmemory is helpful to improve the translation qual-\\nity and efﬁciency for human translators (Dillon\\nand Fraser, 2006). As the development of ma-\\nchine translation techniques, there is a surge of\\ninterests in improving machine translation models\\nwith translation memory. In the rest of this section,\\nwe will review translation memory for both statisti-\\ncal machine translation (SMT) and neural machine\\ntranslation (NMT).\\n4.1\\nTranslation Memory in SMT\\nGenerally, SMT includes three key components in\\na pipeline manner such as phrase table extraction,\\nparameter tuning and decoding (Koehn et al., 2003;\\nChiang, 2007). As a result, many efforts have been\\nmade to make use of translation memory (TM) on\\ntop of each component.\\nConstrained Decoding with TM\\nConstrained\\ndecoding is the most straightforward way to in-\\ntegrating TM into SMT (Smith and Clark, 2009;\\nKoehn and Senellart, 2010; Zhechev and Van Gen-\\nabith, 2010; Ma et al., 2011). Its basic idea is\\nto reuse the useful segments in yr while trans-\\nlate other segments by SMT. Speciﬁcally, the ap-\\nproach consists of three steps: 1) identify the un-\\nmatched segments in both xr and x through the\\nedit-distance algorithm; 2) identify the unmatched\\nsegments in yr, each of which is aligned to one\\nunmatched segment in xr by a word alignment\\nalgorithm; 3) decode each unmatched segment in\\nx by SMT and then use the result to replace its\\ncorresponding unmatched segment in yr. Li et al.\\n(2016b) further extend this approach from sentence\\nlevel to phrase level. The advantage in constrained\\ndecoding is that it does not require to change the\\ntranslation model (including phrase table and pa-\\nrameters) and can be applied in a plug-and-play\\nway. This approach is successful when x is highly\\nsimilar to xr; otherwise its performance is de-\\ngraded largely, because it explicitly isolates TM\\nmatching and SMT decoding and reuses the results\\nin xr or not in a deterministic way.\\nPhrase Table Aggregation with TM\\nThere are\\nalso notable efforts to augment the phrase table\\nfor SMT by extracting translation rules from the\\nretrieved bilingual sentences {⟨xr, yr⟩}.\\nThen\\nthey re-tune the parameters for the SMT model\\nwhich makes use of translation knowledge from\\n{⟨xr, yr⟩} in a implicit way when translating x.\\nFor example, Biçici and Dymetman (2008); Simard\\nand Isabelle (2009) directly combine the extracted\\ntranslation rules into the phrase table in a shallow\\ncombination way. They introduce an additional fea-\\nture to indicate that whether translation rule is from\\n{⟨xr, yr⟩} or not and then train all feature weights\\nwith MERT (Och, 2003). One characteristic of\\nthese work is that a translation rule extracted from\\n{⟨xr, yr⟩} which can not exactly match any seg-\\nments in x is useless even if it may contain some\\nuseful words in its target side. To remedy this ob-\\nservation, Wang et al. (2013, 2014) resort to a deep\\ncombination way to using the extracted translation\\nrules. For each rule in the phrase table, it designs\\na generative model to reward the rules which are\\nsimilar to those extracted from {⟨xr, yr⟩}. Then\\nthis generative model is used as a feature in the log-\\nlinear based SMT model whose weight is tuned\\ntogether with other features by MERT. In addition,\\nLi et al. (2014) employ a similar way to reward\\nthe rules but it relies on a discriminative model\\nwhich is easy to integrate potential features from\\n{⟨xr, yr⟩}.\\nParameter Tuning with TM\\nUnlike the above\\ntwo research lines, Liu et al. (2012, 2014) make use\\nof translation memory only in tuning parameters.\\nTo be speciﬁc, when translating an input sentence\\nx, they ﬁrstly retrieve many similar bilingual sen-\\ntences {⟨xr, yr⟩}, and then tune the parameters on\\ntop of the retrieved sentences as well as a given de-\\nvelopment dataset in a sentence-wise manner, i.e.,\\nit performs an independent tuning for each input\\nsentence. To improve the efﬁciency of each tuning\\nstep, it propose a local update on top of {⟨xr, yr⟩}\\nfrom a baseline model.\\nDespite the successes of translation memory in\\nSMT, there are still some limitations for the above\\nthree kinds of methods. Firstly, all these methods\\nemploy fuzzy score for retrieval which is highly de-\\npendent on word matching and thus can not recall\\nsuch examples which are similar in word seman-\\ntics but different in surface form. Secondly, these\\nmethods integrate the retrieved examples into a\\nmodule of SMT in the ways which can not make\\nfull use of the knowledge in retrieved examples.\\nFor example, the integration ways in the ﬁrst two\\nkinds (constrained decoding and phrase table ag-\\ngregation) are heuristic and not optimized towards\\ntranslation quality; the parameter tuning method\\nﬁne-tunes few parameters for log-linear based SMT\\nwhich are not enough to preserve sufﬁcient knowl-\\nedge from retrieved examples. Thirdly, since SMT\\nperforms in a pipeline manner, it is intractable to\\njointly optimize retrieval metrics as well as SMT\\nmodels. Consequently, all these methods adopt an\\noff-the-shelf metric for retrieval, leading to sub-\\noptimal performance.\\n4.2\\nTranslation Memory in NMT\\nTranslation memory has been widely explored in\\nNeural Machine Translation (NMT). Depending\\non when retrieval is involved, we can categorize\\nprevious works into two classes: 1) an NMT model\\nleans how to cooperate with the retrieval model in\\nthe training phase; 2) an NMT model is only aware\\nof the retrieved data in the inference phase.\\nInference Phase\\nThe key point of literature in\\nthis line is to reward some target words based on\\nwords in yr in the inference process. Thus, a de-\\ncision can be made based on both the distribution\\nof generation model and the additional reward of\\nretrieval model. Some previous works propose to\\nreward target words based on the sentence-level\\nsimilarity between x and xr, and the word align-\\nment between xr and yr. Given the input sentence\\nx, Zhang et al. (2018) try to assign target words\\nin ˆy with higher rewards, when they appear in yr\\nand the aligned source words are in both xr and\\nx. He et al. (2019) follow a similar framework\\nand consider the position information of those tar-\\nget words when rewarding. Those works reward\\nthe target words in an explicit way, however, the\\none-sentence-one-model approach (Li et al., 2016c;\\nTurchi et al., 2017) propose to reward target word\\nimplicitly. For each testing input x, their approach\\nwill ﬁrst ﬁnetune the translation model on retrieved\\nmemory {⟨xr, yr⟩} and then translate x.\\nOthers try to reward target words based on token-\\nlevel similarity score. Most works in this line are\\nbased on the dense retriever (Khandelwal et al.,\\n2020a), e.g., faiss. Khandelwal et al. (2020a) build\\na key-value datastore, where key h(xr, yr\\n<t) is the\\nhidden state at each time step when translating yr\\nfrom xr, and value is its golden-truth target word\\nyr\\nt. Therefore, in the inference time, they can use\\nthe h(x, ˆy<t) as query and reward target words\\nwith similar hidden representations in the datas-\\ntore. Although this method achieves signiﬁcant\\nperformance gain, one drawback of it is the high la-\\ntency. To address this issue, Meng et al. (2021) use\\nsome heuristics, e.g., pre-ﬁltering, to avoid search-\\ning on the entire datastore. The reward score of\\nprevious works is got from some non-parametric\\napproaches, however, Zheng et al. (2021a) propose\\na light-weight network to learn the reward score.\\nSince dense retrieval has the potential of cross-\\nlingual retrieval, Zheng et al. (2021b) use a similar\\napproach to achieve unsupervised domain adapta-\\ntion, where a main change is to create the datastore\\nbased on synthetic sources sentence and the real\\ntarget sentences.\\nTraining Phase\\nDifferent from those model-\\nagnostic approaches, previous works in this line\\naim to train the generation model to learn how\\nto cooperate with the retrieval model. It is also\\nworth noting that most works in this line adopt\\nthe sentence-level retrieval, when integrating the\\nretrieval information in the training process. To\\nachieve its goal, Bulte and Tezcan (2019) and\\nHossain et al. (2020) propose a data augmenta-\\ntion method to integrate the retrieved information,\\nwhere x is concatenated with yr before feeding\\ninto the model . Following the data augmentation\\napproach, Xu et al. (2020) propose more matching\\nmethods to determine including which retrieved\\nexample in the source is better.\\nThere also exist some works that propose new\\narchitectures to integrate the retrieval information.\\nUnder the RNN-based framework, Cao and Xiong\\n(2018) and Gu et al. (2018) use the gating and at-\\ntention mechanism to incorporate the retrieved tar-\\nget sentences. When Transformer (Vaswani et al.,\\n2017) becomes the backbone of NMT, some works\\nalso use additional transformer encoders to en-\\ncode retrieved target sentences, and integrate them\\nthrough attention mechanism (Bapna and Firat,\\n2019; Cao et al., 2019). Xia et al. (2019) repre-\\nsent the retrieved target sentences in a different\\ndata structure, i.e., a graph structure, and integrate\\nit through attention mechanism. He et al. (2021)\\npropose a light-weight method to encode the re-\\ntrieved target sentences and leverage the alignment\\ninformation to ﬁlter out irrelevant information. Dif-\\nferent from previous works that rely on bilingual\\nmemories, Cai et al. (2021) propose a framework\\nthat can retrieve the most similar target sentence in\\na monolingual dataset, using a source sentence as\\nquery.\\nLimitations\\nIn the section of SMT, we have\\nshowed some limitations of the retrieval augmented\\napproaches. There also exist some limitations in\\nthe line of NMT. First, the information used for\\nderiving reward scores is limited. The similarity\\nbetween an input and retrieved examples is the\\nprimary feature to derive reward scores.\\nHow-\\never, some information, e.g., frequencies of words\\nand context, may also be beneﬁcial for integrating\\nthe translation memory. Second, it remains to be\\nan open question that when should we use the re-\\ntrieved information and when not. In the inference\\nphase, approaches tend to integrate the translation\\nmemory excessively, e.g., at each time step, which\\nnot only reduces the translation efﬁciency but may\\nalso dampen the ﬂuency of generated results.\\n5\\nOther Tasks\\nIn addition to dialogue system and machine trans-\\nlation, retrieval-augmented generation techniques\\nhave shown to be beneﬁcial in many other tasks. In\\nthe following, we highlight several key tasks that\\napply retrieval-augmented generation approaches.1\\nLanguage Modelling\\nIt has been shown that\\nproperly leveraging information from retrieval\\nmemory could improve the performance of large\\npre-trained language model. To build a more accu-\\nrate language model, Khandelwal et al. (2020b) pro-\\npose to incorporate a soft memory module into the\\nsystem. Speciﬁcally, an index is built by caching\\nthe hidden states of the training corpus. Then, the\\nlanguage model accesses the index via k-NN search\\nand displays a greatly improved performance. As\\nanother example, Guu et al. (2020) propose a new\\nparadigm that applies retrieval-augmented tech-\\nnique into the pre-training of generative language\\nmodel. During learning, they train a neural se-\\nlector that dynamically samples a relevant text to\\nguide the reconstruction of a corrupted input se-\\nquence. In this way, the pre-trained model deliv-\\ners better results by explicitly grounding on the\\nretrieval memory. Lewis et al. (2020a) combine\\nlanguage model pre-training with a paraphrasing\\n1Here, we focus on tasks other than question answering.\\nWe refer readers interested in QA to Chen and Yih (2020).\\napproach. During learning, an input sequence to\\nthe model is ﬁrst corrupted. In the meantime, a set\\nof multi-lingual texts are retrieved based on which\\nthe model learns to reconstruct the original input\\nsequence. Recently, Borgeaud et al. (2021) pro-\\npose RETRO, a large pre-trained language model\\nenhanced with retrieved documents, and obtained\\ncomparable performances with GPT-3 using 25×\\nfewer parameters.\\nSummarization\\nText summarization is another\\nresearch\\narea\\nthat\\nbeneﬁts\\nfrom\\nretrieval-\\naugmented text generation.\\nPeng et al. (2019)\\npropose an adaptive decoding framework which\\nﬁrst retrieves an exemplar document given the\\nsource document. Then, the summarization of the\\nsource document is derived through an adaptive\\ngeneration process based on the retrieved template.\\nDifferent from Peng et al. (2019), Cao et al.\\n(2018) and Hossain et al. (2020) introduce an\\nintermediate re-ranking stage into the generation\\npipeline.\\nSpeciﬁcally, before generating the\\ndocument summary, the retrieval documents are\\nﬁrst re-ranked based on their similarity scores\\nwith respect to the source document. Then, the\\ndocument summarization is produced by re-writing\\nthe selected templates.\\nParaphrase Generation\\nTo address the lack of\\nquality as well as diversity in the generation of para-\\nphrases, Kazemnejad et al. (2020) propose a gen-\\neration framework which ﬁrst retrieves a sentence\\nthat is similar to input sentence. Then, based on\\nthe retrieved sentence, a neural editor produces the\\nresulting paraphrased sentence. Chen et al. (2019)\\ninvestigate a different aspect of paraphrasing, i.e.\\nhow to control the linguistic syntax displayed in\\nthe generated text. To achieve this goal, Chen et al.\\n(2019) propose to ﬁrst extract a sentential exem-\\nplar that serves as the syntax template. A neural\\nmodel then generates the paraphrase with desired\\nlinguistic syntax following the retrieved exemplar.\\nText Style Transfer\\nTo improve the quality of\\ngenerated text, Li et al. (2018) propose a retrieval-\\naugmented framework which ﬁrst retrieves texts\\nthat are similar to the input based on lexical-level\\nsimilarity. Then, the retrieved tokens that are irrel-\\nevant to the source are deleted, and the output is\\nderived from the edited template. Xiao et al. (2021)\\nalso adopte this framework by incorporating re-\\ntrieval information from two sources (i.e. sparse\\nand dense memories) and obtained an improved\\nmodel performance.\\nData-to-Text Generation\\nRecently, retrieval-\\naugmented generation has been adapted to the task\\nof data-to-text generation. To bridge the gap be-\\ntween the structured data and natural language\\ntext, Su et al. (2021a) propose a novel retrieval-\\naugmented framework.\\nSpeciﬁcally, given the\\nsource data, a set of candidate texts are ﬁrst re-\\ntrieved from a large unlabelled corpus. Then, a\\nneural selector is applied to measure the similari-\\nties between the source data and candidate texts,\\nand extract a set of more ﬁne-grained prototypes\\nfrom the candidates. Lastly, a generation model\\ntakes the prototypes as input to produce the text\\nthat describes the given structured data.\\nWhile retrieval-augmented generation has been\\nwidely explored in the NLP community, we sug-\\ngest that future research could extend this approach\\nto tasks that involve data from multiple modali-\\nties. For instance, with recent advancements in\\nimage-text retrieval (Jia et al., 2021; Radford et al.,\\n2021), the structural gap between images and texts\\nis largely bridged. Some early studies (Zhang et al.,\\n2020) have shown that information retrieved from\\nimages could improve the performance of neural\\nmachine translation model. Naturally, such meth-\\nods could be extended to other multi-modal tasks,\\nsuch as image captioning (Karpathy and Li, 2015).\\nA similar idea could also be applied to tasks be-\\nyond images, such as speech-to-text transcription\\n(Gales and Young, 2007).\\n6\\nFuture Directions\\nDespite the current success of retrieval augmented\\ntext generation, there is still a long way to go as\\ndiscussed in previous sections. We highlight some\\ndirections to facilitate the future research as fol-\\nlows:\\nRetrieval Sensitivity\\nThe performance of re-\\ntrieval augmented text generation is very sensitive\\nto the retrieval quality, i.e., the similarity between\\nthe query and the retrieved examples. Currently, re-\\ntrieval augmented text generation models perform\\nwell when the retrieved examples are very simi-\\nlar to the query. However, they are even worse\\nthan the generation models without retrieval when\\nthe retrieval examples are less similar. Therefore,\\nit would be important to exploit new methods to\\naddress such an issue on similarity.\\nRetrieval Efﬁciency\\nGenerally, if one enlarges\\nthe retrieval memory to some extent, it would be\\npossible to retrieve an example which is very simi-\\nlar to the query.Unfortunately, the downside is that\\nthe overall inference for the retrieval augmented\\ngeneration models is less efﬁcient due the consid-\\nerable retrieval overhead. In this sense, it is urgent\\nto consider some methods to trade off the retrieval\\nmemory size and retrieval efﬁciency, for example,\\ndata compression for the retrieval memory.\\nLocal vs. Global Optimization\\nTheoretically, it\\nseems promising to jointly learn retrieval metrics\\nand generation models. However, in practice, there\\nis an essential gap about the retrieval metric be-\\ntween the training and inference phrases. In the\\ntraining phase, the loss is locally back-propagated\\nto only a few retrieved examples while in the infer-\\nence phase the metric is globally conducted among\\nall examples in the memory. It would be interesting\\nto narrow such a gap when learning a better metric\\nfor generation tasks.\\nMulti-Modalities\\nWith recent advancement in\\nimage-text retrieval, directly associating images\\nwith relevant text becomes possible. This urges\\nresearchers to investigate the possibility of retrieval-\\nbased text generation in tasks that involve data from\\ndifferent modalities. One typical task is image\\ncaptioning. Beyond images, other tasks like speech-\\nto-text transcription could potentially beneﬁt from\\nretrieval-based generation methods as well.\\nDiverse & Controllable Retrieval\\nMost of the\\nexisting approaches adopt a universal metric for\\nretrieval, such as lexical similarities of sentences.\\nFuture work should explore how to use customized\\nmetrics for retrieval. This can be beneﬁcial for\\nmore controlled text generation. For example, in-\\nstances with emotions and styles may be more de-\\nsirable in the personalized dialogue generation, par-\\nallel data that contains speciﬁc terminologies is\\nmore helpful in machine translation, and so on. On\\nthe other hand, using a universal metric for retrieval\\nmay lead to the lack of diversity of the retrieval re-\\nsults. Collecting a diverse set of retrieval results\\ncan improve the coverage of useful information.\\nThus, considering multiple different metrics for re-\\ntrieval may lead to generation with higher quality\\nin the future.\\n7\\nConclusion\\nIn this paper, we surveyed recent approaches for\\nretrieval-augmented text generation. We reviewed\\nand summarized the development of different com-\\nponents of retrieval-augmented text generation in-\\ncluding retrieval metrics, retrieval sources, and in-\\ntegration paradigms. We gave in-depth discussions\\nwhen retrieval-augmented text generation comes to\\ndifferent applications including dialogue response\\ngeneration, machine translation, and other genera-\\ntion tasks. We also pointed out some future direc-\\ntions for retrieval-augmented text generation.\\nReferences\\nDzmitry Bahdanau, Kyunghyun Cho, and Yoshua Ben-\\ngio. 2014.\\nNeural machine translation by jointly\\nlearning to align and translate.\\narXiv preprint\\narXiv:1409.0473.\\nAnkur Bapna and Orhan Firat. 2019. Non-parametric\\nadaptation for neural machine translation. In Pro-\\nceedings of the 2019 Conference of the North Amer-\\nican Chapter of the Association for Computational\\nLinguistics: Human Language Technologies, Vol-\\nume 1 (Long and Short Papers), pages 1921–1931.\\nErgun Biçici and Marc Dymetman. 2008.\\nDynamic\\ntranslation memory: Using statistical machine trans-\\nlation to improve translation memory fuzzy matches.\\nIn International Conference on Intelligent Text Pro-\\ncessing and Computational Linguistics, pages 454–\\n465. Springer.\\nSebastian Borgeaud, Arthur Mensch, Jordan Hoff-\\nmann, Trevor Cai, Eliza Rutherford, Katie Millican,\\nGeorge van den Driessche, Jean-Baptiste Lespiau,\\nBogdan Damoc, Aidan Clark, Diego de Las Casas,\\nAurelia Guy, Jacob Menick, Roman Ring, Tom Hen-\\nnigan, Saffron Huang, Loren Maggiore, Chris Jones,\\nAlbin Cassirer, Andy Brock, Michela Paganini, Ge-\\noffrey Irving, Oriol Vinyals, Simon Osindero, Karen\\nSimonyan, Jack W. Rae, Erich Elsen, and Laurent\\nSifre. 2021. Improving language models by retriev-\\ning from trillions of tokens. CoRR, abs/2112.04426.\\nBram Bulte and Arda Tezcan. 2019. Neural fuzzy re-\\npair: Integrating fuzzy matches into neural machine\\ntranslation. In Proceedings of the 57th Annual Meet-\\ning of the Association for Computational Linguistics,\\npages 1800–1809.\\nDeng Cai, Yan Wang, Wei Bi, Zhaopeng Tu, Xi-\\naojiang Liu, Wai Lam, and Shuming Shi. 2019a.\\nSkeleton-to-response: Dialogue generation guided\\nby retrieval memory.\\nIn Proceedings of the 2019\\nConference of the North American Chapter of the\\nAssociation for Computational Linguistics: Human\\nLanguage Technologies, Volume 1 (Long and Short\\nPapers), pages 1219–1228.\\nDeng Cai, Yan Wang, Wei Bi, Zhaopeng Tu, Xiao-\\njiang Liu, and Shuming Shi. 2019b.\\nRetrieval-\\nguided dialogue response generation via a matching-\\nto-generation framework.\\nIn Proceedings of the\\n2019 Conference on Empirical Methods in Natu-\\nral Language Processing and the 9th International\\nJoint Conference on Natural Language Processing\\n(EMNLP-IJCNLP), pages 1866–1875.\\nDeng Cai, Yan Wang, Huayang Li, Wai Lam, and\\nLemao Liu. 2021. Neural machine translation with\\nmonolingual translation memory. In Proceedings of\\nthe 59th Annual Meeting of the Association for Com-\\nputational Linguistics and the 11th International\\nJoint Conference on Natural Language Processing\\n(Volume 1: Long Papers), pages 7307–7318, Online.\\nAssociation for Computational Linguistics.\\nQian Cao, Shaohui Kuang, and Deyi Xiong. 2019.\\nLearning to reuse translations: Guiding neural ma-\\nchine translation with examples.\\narXiv preprint\\narXiv:1911.10732.\\nQian Cao and Deyi Xiong. 2018.\\nEncoding gated\\ntranslation memory into neural machine translation.\\nIn Proceedings of the 2018 Conference on Empiri-\\ncal Methods in Natural Language Processing, pages\\n3042–3047.\\nZiqiang Cao, Wenjie Li, Sujian Li, and Furu Wei.\\n2018. Retrieve, rerank and rewrite: Soft template\\nbased neural summarization. In Proceedings of the\\n56th Annual Meeting of the Association for Com-\\nputational Linguistics, ACL 2018, Melbourne, Aus-\\ntralia, July 15-20, 2018, Volume 1: Long Papers,\\npages 152–161. Association for Computational Lin-\\nguistics.\\nDanqi Chen and Wen-tau Yih. 2020.\\nOpen-domain\\nquestion answering. In Proceedings of the 58th An-\\nnual Meeting of the Association for Computational\\nLinguistics: Tutorial Abstracts, pages 34–37, On-\\nline. Association for Computational Linguistics.\\nMingda Chen, Qingming Tang, Sam Wiseman, and\\nKevin Gimpel. 2019. Controllable paraphrase gen-\\neration with a syntactic exemplar. In Proceedings of\\nthe 57th Conference of the Association for Compu-\\ntational Linguistics, ACL 2019, Florence, Italy, July\\n28- August 2, 2019, Volume 1: Long Papers, pages\\n5972–5984. Association for Computational Linguis-\\ntics.\\nDavid Chiang. 2007. Hierarchical phrase-based trans-\\nlation. computational linguistics, 33(2):201–228.\\nSarah Dillon and Janet Fraser. 2006. Translators and\\ntm: An investigation of translators’ perceptions of\\ntranslation memory adoption. Machine Translation,\\n20(2):67–79.\\nEmily Dinan, Stephen Roller, Kurt Shuster, Angela\\nFan, Michael Auli, and Jason Weston. 2018. Wizard\\nof wikipedia: Knowledge-powered conversational\\nagents. arXiv preprint arXiv:1811.01241.\\nMark J. F. Gales and Steve J. Young. 2007. The applica-\\ntion of hidden markov models in speech recognition.\\nFound. Trends Signal Process., 1(3):195–304.\\nJiatao Gu, Yong Wang, Kyunghyun Cho, and Vic-\\ntor OK Li. 2018. Search engine guided neural ma-\\nchine translation. In Proceedings of the AAAI Con-\\nference on Artiﬁcial Intelligence, volume 32.\\nPrakhar Gupta, Jeffrey Bigham, Yulia Tsvetkov, and\\nAmy Pavel. 2021. Controlling dialogue generation\\nwith semantic exemplars.\\nIn Proceedings of the\\n2021 Conference of the North American Chapter of\\nthe Association for Computational Linguistics: Hu-\\nman Language Technologies, pages 3018–3029, On-\\nline. Association for Computational Linguistics.\\nKelvin Guu, Kenton Lee, Zora Tung, Panupong Pasu-\\npat, and Ming-Wei Chang. 2020. REALM: retrieval-\\naugmented language model pre-training.\\nCoRR,\\nabs/2002.08909.\\nTatsunori B Hashimoto, Kelvin Guu, Yonatan Oren,\\nand Percy S Liang. 2018. A retrieve-and-edit frame-\\nwork for predicting structured outputs. In Advances\\nin Neural Information Processing Systems, pages\\n10052–10062.\\nQiuxiang He, Guoping Huang, Qu Cui, Li Li, and\\nLemao Liu. 2021. Fast and accurate neural machine\\ntranslation with translation memory.\\nIn Proceed-\\nings of the 59th Annual Meeting of the Association\\nfor Computational Linguistics and the 11th Interna-\\ntional Joint Conference on Natural Language Pro-\\ncessing (Volume 1: Long Papers), pages 3170–3180.\\nQiuxiang He, Guoping Huang, Lemao Liu, and Li Li.\\n2019. Word position aware translation memory for\\nneural machine translation.\\nIn CCF International\\nConference on Natural Language Processing and\\nChinese Computing, pages 367–379. Springer.\\nNabil Hossain, Marjan Ghazvininejad, and Luke Zettle-\\nmoyer. 2020.\\nSimple and effective retrieve-edit-\\nrerank text generation. In Proceedings of the 58th\\nAnnual Meeting of the Association for Computa-\\ntional Linguistics, pages 2532–2538.\\nBaotian Hu, Zhengdong Lu, Hang Li, and Qingcai\\nChen. 2014. Convolutional neural network architec-\\ntures for matching natural language sentences. In\\nNIPS, pages 2042–2050.\\nZongcheng Ji, Zhengdong Lu, and Hang Li. 2014. An\\ninformation retrieval approach to short text conver-\\nsation. arXiv preprint arXiv:1408.6988.\\nChao Jia, Yinfei Yang, Ye Xia, Yi-Ting Chen, Zarana\\nParekh, Hieu Pham, Quoc V. Le, Yun-Hsuan Sung,\\nZhen Li, and Tom Duerig. 2021. Scaling up visual\\nand vision-language representation learning with\\nnoisy text supervision. In Proceedings of the 38th In-\\nternational Conference on Machine Learning, ICML\\n2021, 18-24 July 2021, Virtual Event, volume 139 of\\nProceedings of Machine Learning Research, pages\\n4904–4916. PMLR.\\nAndrej Karpathy and Fei-Fei Li. 2015. Deep visual-\\nsemantic alignments for generating image descrip-\\ntions. In IEEE Conference on Computer Vision and\\nPattern Recognition, CVPR 2015, Boston, MA, USA,\\nJune 7-12, 2015, pages 3128–3137. IEEE Computer\\nSociety.\\nAmirhossein Kazemnejad, Mohammadreza Salehi, and\\nMahdieh Soleymani Baghshah. 2020.\\nParaphrase\\ngeneration by learning how to edit from samples. In\\nProceedings of the 58th Annual Meeting of the Asso-\\nciation for Computational Linguistics, pages 6010–\\n6021, Online. Association for Computational Lin-\\nguistics.\\nUrvashi Khandelwal, Angela Fan, Dan Jurafsky, Luke\\nZettlemoyer,\\nand Mike Lewis. 2020a.\\nNear-\\nest neighbor machine translation.\\narXiv preprint\\narXiv:2010.00710.\\nUrvashi Khandelwal, Omer Levy, Dan Jurafsky, Luke\\nZettlemoyer, and Mike Lewis. 2020b. Generaliza-\\ntion through memorization: Nearest neighbor lan-\\nguage models. In 8th International Conference on\\nLearning Representations, ICLR 2020, Addis Ababa,\\nEthiopia, April 26-30, 2020. OpenReview.net.\\nPhilipp Koehn, Franz J. Och, and Daniel Marcu. 2003.\\nStatistical phrase-based translation. In Proceedings\\nof the 2003 Human Language Technology Confer-\\nence of the North American Chapter of the Associa-\\ntion for Computational Linguistics, pages 127–133.\\nPhilipp Koehn and Jean Senellart. 2010. Convergence\\nof translation memory and statistical machine trans-\\nlation. In Proceedings of AMTA Workshop on MT\\nResearch and the Translation Industry, pages 21–31.\\nMojtaba Komeili, Kurt Shuster, and Jason Weston.\\n2021.\\nInternet-augmented dialogue generation.\\narXiv preprint arXiv:2107.07566.\\nKenton Lee, Ming-Wei Chang, and Kristina Toutanova.\\n2019.\\nLatent retrieval for weakly supervised\\nopen domain question answering.\\narXiv preprint\\narXiv:1906.00300.\\nMike Lewis, Marjan Ghazvininejad, Gargi Ghosh, Ar-\\nmen Aghajanyan, Sida Wang, and Luke Zettlemoyer.\\n2020a. Pre-training via paraphrasing. In Advances\\nin Neural Information Processing Systems 33: An-\\nnual Conference on Neural Information Processing\\nSystems 2020, NeurIPS 2020, December 6-12, 2020,\\nvirtual.\\nPatrick Lewis, Ethan Perez, Aleksandra Piktus, Fabio\\nPetroni, Vladimir Karpukhin, Naman Goyal, Hein-\\nrich Küttler, Mike Lewis, Wen-tau Yih, Tim Rock-\\ntäschel, et al. 2020b.\\nRetrieval-augmented gen-\\neration for knowledge-intensive nlp tasks.\\narXiv\\npreprint arXiv:2005.11401.\\nJiwei Li, Michel Galley, Chris Brockett, Jianfeng Gao,\\nand Bill Dolan. 2016a. A diversity-promoting ob-\\njective function for neural conversation models. In\\nNAACL, pages 110–119.\\nJuncen Li, Robin Jia, He He, and Percy Liang. 2018.\\nDelete, retrieve, generate: a simple approach to sen-\\ntiment and style transfer. In Proceedings of the 2018\\nConference of the North American Chapter of the\\nAssociation for Computational Linguistics: Human\\nLanguage Technologies, NAACL-HLT 2018, New\\nOrleans, Louisiana, USA, June 1-6, 2018, Volume\\n1 (Long Papers), pages 1865–1874. Association for\\nComputational Linguistics.\\nLiangyou Li, Andy Way, and Qun Liu. 2014.\\nA\\ndiscriminative framework of integrating translation\\nmemory features into smt.\\nIn Proceedings of the\\n11th Conference of the Association for Machine\\nTranslation in the Americas, volume 1, pages 249–\\n260.\\nLiangyou Li, Andy Way, and Qun Liu. 2016b. Phrase-\\nlevel combination of smt and tm using constrained\\nword lattice.\\nAssociation for Computational Lin-\\nguistics (ACL).\\nXiaoqing Li, Jiajun Zhang, and Chengqing Zong.\\n2016c. One sentence one model for neural machine\\ntranslation. arXiv preprint arXiv:1609.06490.\\nZekang Li, Cheng Niu, Fandong Meng, Yang Feng,\\nQian Li, and Jie Zhou. 2019.\\nIncremental trans-\\nformer with deliberation decoder for document\\ngrounded conversations. In Proceedings of the 57th\\nAnnual Meeting of the Association for Computa-\\ntional Linguistics, pages 12–21.\\nRongzhong Lian, Min Xie, Fan Wang, Jinhua Peng,\\nand Hua Wu. 2019. Learning to select knowledge\\nfor response generation in dialog systems.\\narXiv\\npreprint arXiv:1902.04911.\\nLemao Liu, Hailong Cao, Taro Watanabe, Tiejun Zhao,\\nMo Yu, and Conghui Zhu. 2012. Locally training\\nthe log-linear model for smt. In Proceedings of the\\n2012 Joint Conference on Empirical Methods in Nat-\\nural Language Processing and Computational Natu-\\nral Language Learning, pages 402–411.\\nLemao Liu, Tiejun Zhao, Taro Watanabe, Hailong Cao,\\nand Conghui Zhu. 2014. Discriminative training for\\nlog-linear based smt: Global or local methods. ACM\\nTransactions on Asian Language Information Pro-\\ncessing (TALIP), 13(4):1–25.\\nYanjun Ma, Yifan He, Andy Way, and Josef van Gen-\\nabith. 2011.\\nConsistent translation using discrim-\\ninative learning-a translation memory-inspired ap-\\nproach.\\nIn Proceedings of the 49th Annual Meet-\\ning of the Association for Computational Linguistics:\\nHuman Language Technologies, pages 1239–1248.\\nYuxian Meng, Xiaoya Li, Xiayu Zheng, Fei Wu, Xi-\\naofei Sun, Tianwei Zhang, and Jiwei Li. 2021.\\nFast nearest neighbor machine translation.\\narXiv\\npreprint arXiv:2105.14528.\\nFranz Josef Och. 2003. Minimum error rate training in\\nstatistical machine translation. In Proceedings of the\\n41st Annual Meeting of the Association for Compu-\\ntational Linguistics, pages 160–167, Sapporo, Japan.\\nAssociation for Computational Linguistics.\\nGaurav Pandey, Danish Contractor, Vineet Kumar, and\\nSachindra Joshi. 2018. Exemplar encoder-decoder\\nfor neural conversation generation. In ACL, pages\\n1329–1338.\\nAshwin Paranjape, Omar Khattab, Christopher Potts,\\nMatei Zaharia, and Christopher D Manning. 2021.\\nHindsight: Posterior-guided training of retrievers for\\nimproved open-ended generation.\\narXiv preprint\\narXiv:2110.07752.\\nHao Peng, Ankur P. Parikh, Manaal Faruqui, Bhuwan\\nDhingra, and Das Dipanjan. 2019. Text generation\\nwith exemplar-based adaptive decoding. In Proceed-\\nings of the Conference of the North American Chap-\\nter of the Association for Computational Linguistics:\\nHuman Language Technologies.\\nLianhui Qin, Michel Galley, Chris Brockett, Xiaodong\\nLiu, Xiang Gao, William B Dolan, Yejin Choi, and\\nJianfeng Gao. 2019. Conversing by reading: Con-\\ntentful neural conversation with on-demand machine\\nreading. In Proceedings of the 57th Annual Meet-\\ning of the Association for Computational Linguistics,\\npages 5427–5436.\\nMinghui Qiu, Feng-Lin Li, Siyu Wang, Xing Gao, Yan\\nChen, Weipeng Zhao, Haiqing Chen, Jun Huang,\\nand Wei Chu. 2017. Alime chat: A sequence to se-\\nquence and rerank based chatbot engine. In ACL,\\npages 498–503.\\nAlec Radford, Jong Wook Kim, Chris Hallacy, Aditya\\nRamesh, Gabriel Goh, Sandhini Agarwal, Girish\\nSastry, Amanda Askell, Pamela Mishkin, Jack Clark,\\nGretchen Krueger, and Ilya Sutskever. 2021. Learn-\\ning transferable visual models from natural lan-\\nguage supervision. In Proceedings of the 38th In-\\nternational Conference on Machine Learning, ICML\\n2021, 18-24 July 2021, Virtual Event, volume 139 of\\nProceedings of Machine Learning Research, pages\\n8748–8763. PMLR.\\nStephen Robertson and Hugo Zaragoza. 2009.\\nThe\\nprobabilistic relevance framework: BM25 and be-\\nyond. Now Publishers Inc.\\nLifeng Shang, Zhengdong Lu, and Hang Li. 2015. Neu-\\nral responding machine for short-text conversation.\\nIn ACL, pages 1577–1586.\\nMichel Simard and Pierre Isabelle. 2009. Phrase-based\\nmachine translation in a computer-assisted transla-\\ntion environment. Proceedings of the Twelfth Ma-\\nchine Translation Summit (MT Summit XII), pages\\n120–127.\\nJames Smith and Stephen Clark. 2009. Ebmt for smt:\\na new ebmt-smt hybrid. In Proceedings of the 3rd\\nInternational Workshop on Example-Based Machine\\nTranslation, pages 3–10. Citeseer.\\nHarold Somers. 2003.\\nTranslation memory systems.\\nBenjamins Translation Library, 35:31–48.\\nYiping Song, Rui Yan, Xiang Li, Dongyan Zhao, and\\nMing Zhang. 2016. Two are better than one: An en-\\nsemble of retrieval-and generation-based dialog sys-\\ntems. arXiv preprint arXiv:1610.07149.\\nYixuan Su, Zaiqiao Meng, Simon Baker, and Nigel Col-\\nlier. 2021a. Few-shot table-to-text generation with\\nprototype memory. In Findings of the Association\\nfor Computational Linguistics: EMNLP 2021, Vir-\\ntual Event / Punta Cana, Dominican Republic, 16-\\n20 November, 2021, pages 910–917. Association for\\nComputational Linguistics.\\nYixuan Su, David Vandyke, Simon Baker, Yan Wang,\\nand Nigel Collier. 2021b. Keep the primary, rewrite\\nthe secondary: A two-stage approach for paraphrase\\ngeneration. In Findings of the Association for Com-\\nputational Linguistics: ACL-IJCNLP 2021, pages\\n560–569, Online. Association for Computational\\nLinguistics.\\nYixuan Su, Yan Wang, Deng Cai, Simon Baker, Anna\\nKorhonen, and Nigel Collier. 2021c. PROTOTYPE-\\nTO-STYLE: dialogue generation with style-aware\\nediting on retrieval memory. IEEE ACM Trans. Au-\\ndio Speech Lang. Process., 29:2152–2161.\\nMarco Turchi, Matteo Negri, M Farajian, and Marcello\\nFederico. 2017. Continuous learning from human\\npost-edits for neural machine translation.\\nAshish Vaswani, Noam Shazeer, Niki Parmar, Jakob\\nUszkoreit, Llion Jones, Aidan N Gomez, Łukasz\\nKaiser, and Illia Polosukhin. 2017. Attention is all\\nyou need. In Advances in neural information pro-\\ncessing systems, pages 5998–6008.\\nOriol Vinyals and Quoc Le. 2015. A neural conversa-\\ntional model. In ICML (Deep Learning Workshop).\\nKun Wang, Chengqing Zong, and Keh-Yih Su. 2013.\\nIntegrating translation memory into phrase-based\\nmachine translation during decoding.\\nIn Proceed-\\nings of the 51st Annual Meeting of the Association\\nfor Computational Linguistics (Volume 1: Long Pa-\\npers), pages 11–21.\\nKun Wang, Chengqing Zong, and Keh-Yih Su. 2014.\\nDynamically integrating cross-domain translation\\nmemory into phrase-based machine translation dur-\\ning decoding.\\nIn Proceedings of COLING 2014,\\nthe 25th International Conference on Computational\\nLinguistics: Technical Papers, pages 398–408.\\nJason Weston, Emily Dinan, and Alexander Miller.\\n2018. Retrieve and reﬁne: Improved sequence gen-\\neration models for dialogue. In Proceedings of the\\n2018 EMNLP Workshop SCAI: The 2nd Interna-\\ntional Workshop on Search-Oriented Conversational\\nAI, pages 87–92.\\nYu Wu, Furu Wei, Shaohan Huang, Yunli Wang, Zhou-\\njun Li, and Ming Zhou. 2019. Response generation\\nby context-aware prototype editing. In Proceedings\\nof the AAAI Conference on Artiﬁcial Intelligence,\\nvolume 33, pages 7281–7288.\\nZeqiu Wu, Michel Galley, Chris Brockett, Yizhe Zhang,\\nXiang Gao, Chris Quirk, Rik Koncel-Kedziorski,\\nJianfeng Gao, Hannaneh Hajishirzi, Mari Ostendorf,\\net al. 2021. A controllable model of grounded re-\\nsponse generation. In Proceedings of the AAAI Con-\\nference on Artiﬁcial Intelligence, volume 35, pages\\n14085–14093.\\nMengzhou Xia, Guoping Huang, Lemao Liu, and\\nShuming Shi. 2019. Graph based translation mem-\\nory for neural machine translation. In Proceedings\\nof the AAAI Conference on Artiﬁcial Intelligence,\\nvolume 33, pages 7297–7304.\\nFei Xiao, Liang Pang, Yanyan Lan, Yan Wang, Huawei\\nShen, and Xueqi Cheng. 2021. Transductive learn-\\ning for unsupervised text style transfer. In Proceed-\\nings of the 2021 Conference on Empirical Methods\\nin Natural Language Processing, EMNLP 2021, Vir-\\ntual Event / Punta Cana, Dominican Republic, 7-11\\nNovember, 2021, pages 2510–2521. Association for\\nComputational Linguistics.\\nJitao Xu, Josep M Crego, and Jean Senellart. 2020.\\nBoosting neural machine translation with similar\\ntranslations.\\nIn Proceedings of the 58th Annual\\nMeeting of the Association for Computational Lin-\\nguistics, pages 1580–1590.\\nLiu Yang, Junjie Hu, Minghui Qiu, Chen Qu, Jian-\\nfeng Gao, W Bruce Croft, Xiaodong Liu, Yelong\\nShen, and Jingjing Liu. 2019.\\nA hybrid retrieval-\\ngeneration neural conversation model. In Proceed-\\nings of the 28th ACM international conference on in-\\nformation and knowledge management, pages 1341–\\n1350.\\nJingyi Zhang, Masao Utiyama, Eiichiro Sumita, Gra-\\nham Neubig, and Satoshi Nakamura. 2018. Guiding\\nneural machine translation with retrieved translation\\npieces. In Proceedings of the 2018 Conference of the\\nNorth American Chapter of the Association for Com-\\nputational Linguistics: Human Language Technolo-\\ngies, Volume 1 (Long Papers), pages 1325–1335.\\nYizhe Zhang, Siqi Sun, Xiang Gao, Yuwei Fang, Chris\\nBrockett, Michel Galley, Jianfeng Gao, and Bill\\nDolan. 2021.\\nJoint retrieval and generation train-\\ning for grounded text generation.\\narXiv preprint\\narXiv:2105.06597.\\nZhuosheng Zhang, Kehai Chen, Rui Wang, Masao\\nUtiyama, Eiichiro Sumita, Zuchao Li, and Hai Zhao.\\n2020.\\nNeural machine translation with universal\\nvisual representation. In 8th International Confer-\\nence on Learning Representations, ICLR 2020, Ad-\\ndis Ababa, Ethiopia, April 26-30, 2020. OpenRe-\\nview.net.\\nVentsislav Zhechev and Josef Van Genabith. 2010.\\nSeeding statistical machine translation with trans-\\nlation memory output through tree-based structural\\nalignment.\\nIn Proceedings of the 4th Workshop\\non Syntax and Structure in Statistical Translation,\\npages 43–51.\\nXin Zheng, Zhirui Zhang, Junliang Guo, Shujian\\nHuang, Boxing Chen, Weihua Luo, and Jiajun Chen.\\n2021a. Adaptive nearest neighbor machine transla-\\ntion. arXiv preprint arXiv:2105.13022.\\nXin Zheng, Zhirui Zhang, Shujian Huang, Boxing\\nChen, Jun Xie, Weihua Luo, and Jiajun Chen. 2021b.\\nNon-parametric unsupervised domain adaptation for\\nneural machine translation. In Findings of the As-\\nsociation for Computational Linguistics: EMNLP\\n2021, pages 4234–4241.\\nKangyan Zhou, Shrimai Prabhumoye, and Alan W\\nBlack. 2018. A dataset for document grounded con-\\nversations. arXiv preprint arXiv:1809.07358.\\n', metadata={'Published': '2022-02-13', 'Title': 'A Survey on Retrieval-Augmented Text Generation', 'Authors': 'Huayang Li, Yixuan Su, Deng Cai, Yan Wang, Lemao Liu', 'Summary': 'Recently, retrieval-augmented text generation attracted increasing attention\\nof the computational linguistics community. Compared with conventional\\ngeneration models, retrieval-augmented text generation has remarkable\\nadvantages and particularly has achieved state-of-the-art performance in many\\nNLP tasks. This paper aims to conduct a survey about retrieval-augmented text\\ngeneration. It firstly highlights the generic paradigm of retrieval-augmented\\ngeneration, and then it reviews notable approaches according to different tasks\\nincluding dialogue response generation, machine translation, and other\\ngeneration tasks. Finally, it points out some important directions on top of\\nrecent methods to facilitate future research.'})\n"
     ]
    }
   ],
   "source": [
    "from pprint import pprint\n",
    "for doc in base_docs:\n",
    "  pprint(doc)\n",
    "  break"
   ]
  },
  {
   "cell_type": "code",
   "execution_count": 9,
   "metadata": {},
   "outputs": [],
   "source": [
    "from langchain_community.vectorstores import Chroma\n",
    "from langchain_openai import OpenAIEmbeddings\n",
    "from langchain.text_splitter import RecursiveCharacterTextSplitter\n",
    "\n",
    "text_splitter = RecursiveCharacterTextSplitter(chunk_size=250)\n",
    "\n",
    "docs = text_splitter.split_documents(base_docs)\n",
    "\n",
    "vectorstore = Chroma.from_documents(docs, OpenAIEmbeddings())"
   ]
  },
  {
   "cell_type": "code",
   "execution_count": 41,
   "metadata": {},
   "outputs": [
    {
     "name": "stdout",
     "output_type": "stream",
     "text": [
      "4756\n",
      "[Document(page_content='A Survey on Retrieval-Augmented Text Generation\\nHuayang Li♥,∗\\nYixuan Su♠,∗\\nDeng Cai♦,∗\\nYan Wang♣,∗\\nLemao Liu♣,∗\\n♥Nara Institute of Science and Technology\\n♠University of Cambridge\\n♦The Chinese University of Hong Kong\\n♣Tencent AI Lab', metadata={'Published': '2022-02-13', 'Title': 'A Survey on Retrieval-Augmented Text Generation', 'Authors': 'Huayang Li, Yixuan Su, Deng Cai, Yan Wang, Lemao Liu', 'Summary': 'Recently, retrieval-augmented text generation attracted increasing attention\\nof the computational linguistics community. Compared with conventional\\ngeneration models, retrieval-augmented text generation has remarkable\\nadvantages and particularly has achieved state-of-the-art performance in many\\nNLP tasks. This paper aims to conduct a survey about retrieval-augmented text\\ngeneration. It firstly highlights the generic paradigm of retrieval-augmented\\ngeneration, and then it reviews notable approaches according to different tasks\\nincluding dialogue response generation, machine translation, and other\\ngeneration tasks. Finally, it points out some important directions on top of\\nrecent methods to facilitate future research.'}), Document(page_content='Huayang Li♥,∗\\nYixuan Su♠,∗\\nDeng Cai♦,∗\\nYan Wang♣,∗\\nLemao Liu♣,∗\\n♥Nara Institute of Science and Technology\\n♠University of Cambridge\\n♦The Chinese University of Hong Kong\\n♣Tencent AI Lab\\nli.huayang.lh6@is.naist.jp, ys484@cam.ac.uk', metadata={'Published': '2022-02-13', 'Title': 'A Survey on Retrieval-Augmented Text Generation', 'Authors': 'Huayang Li, Yixuan Su, Deng Cai, Yan Wang, Lemao Liu', 'Summary': 'Recently, retrieval-augmented text generation attracted increasing attention\\nof the computational linguistics community. Compared with conventional\\ngeneration models, retrieval-augmented text generation has remarkable\\nadvantages and particularly has achieved state-of-the-art performance in many\\nNLP tasks. This paper aims to conduct a survey about retrieval-augmented text\\ngeneration. It firstly highlights the generic paradigm of retrieval-augmented\\ngeneration, and then it reviews notable approaches according to different tasks\\nincluding dialogue response generation, machine translation, and other\\ngeneration tasks. Finally, it points out some important directions on top of\\nrecent methods to facilitate future research.'})]\n"
     ]
    }
   ],
   "source": [
    "print(len(docs))\n",
    "print(docs[:2])"
   ]
  },
  {
   "cell_type": "code",
   "execution_count": 42,
   "metadata": {},
   "outputs": [
    {
     "name": "stdout",
     "output_type": "stream",
     "text": [
      "249\n"
     ]
    }
   ],
   "source": [
    "print(max([len(chunk.page_content) for chunk in docs]))"
   ]
  },
  {
   "cell_type": "code",
   "execution_count": 12,
   "metadata": {},
   "outputs": [],
   "source": [
    "base_retriever = vectorstore.as_retriever(search_kwargs={\"k\" : 2})"
   ]
  },
  {
   "cell_type": "code",
   "execution_count": 17,
   "metadata": {},
   "outputs": [
    {
     "data": {
      "text/plain": [
       "[Document(page_content='arXiv:2004.04906.\\nPatrick Lewis, Ethan Perez, Aleksandra Piktus, Fabio\\nPetroni, Vladimir Karpukhin, Naman Goyal, Hein-\\nrich Küttler, Mike Lewis, Wen-tau Yih, Tim Rock-\\ntäschel, et al. 2020. Retrieval-augmented generation', metadata={'Authors': 'Xuchao Zhang, Menglin Xia, Camille Couturier, Guoqing Zheng, Saravan Rajmohan, Victor Ruhle', 'Published': '2023-08-08', 'Summary': \"Retrieval augmented models show promise in enhancing traditional language\\nmodels by improving their contextual understanding, integrating private data,\\nand reducing hallucination. However, the processing time required for retrieval\\naugmented large language models poses a challenge when applying them to tasks\\nthat require real-time responses, such as composition assistance.\\n  To overcome this limitation, we propose the Hybrid Retrieval-Augmented\\nGeneration (HybridRAG) framework that leverages a hybrid setting that combines\\nboth client and cloud models. HybridRAG incorporates retrieval-augmented memory\\ngenerated asynchronously by a Large Language Model (LLM) in the cloud. By\\nintegrating this retrieval augmented memory, the client model acquires the\\ncapability to generate highly effective responses, benefiting from the LLM's\\ncapabilities. Furthermore, through asynchronous memory integration, the client\\nmodel is capable of delivering real-time responses to user requests without the\\nneed to wait for memory synchronization from the cloud. Our experiments on\\nWikitext and Pile subsets show that HybridRAG achieves lower latency than a\\ncloud-based retrieval-augmented LLM, while outperforming client-only models in\\nutility.\", 'Title': 'Hybrid Retrieval-Augmented Generation for Real-time Composition Assistance'}),\n",
       " Document(page_content='ume 51, pages 260–267. ACM New York, NY, USA.\\nPatrick Lewis, Ethan Perez, Aleksandara Piktus, Fabio\\nPetroni, Vladimir Karpukhin, Naman Goyal, Hein-\\nrich Küttler, Mike Lewis, Wen-tau Yih, Tim Rock-\\ntäschel, et al. 2020. Retrieval-augmented generation', metadata={'Authors': 'Suyu Ge, Chenyan Xiong, Corby Rosset, Arnold Overwijk, Jiawei Han, Paul Bennett', 'Published': '2023-02-07', 'Summary': 'In this paper we improve the zero-shot generalization ability of language\\nmodels via Mixture-Of-Memory Augmentation (MoMA), a mechanism that retrieves\\naugmentation documents from multiple information corpora (\"external memories\"),\\nwith the option to \"plug in\" new memory at inference time. We develop a joint\\nlearning mechanism that trains the augmentation component with latent labels\\nderived from the end retrieval task, paired with hard negatives from the memory\\nmixture. We instantiate the model in a zero-shot dense retrieval setting by\\naugmenting a strong T5-based retriever with MoMA. Our model, MoMA, obtains\\nstrong zero-shot retrieval accuracy on the eighteen tasks included in the\\nstandard BEIR benchmark. It outperforms systems that seek generalization from\\nincreased model parameters and computation steps. Our analysis further\\nillustrates the necessity of augmenting with mixture-of-memory for robust\\ngeneralization, the benefits of augmentation learning, and how MoMA utilizes\\nthe plug-in memory at inference time without changing its parameters. We plan\\nto open source our code.', 'Title': 'Augmenting Zero-Shot Dense Retrievers with Plug-in Mixture-of-Memories'})]"
      ]
     },
     "execution_count": 17,
     "metadata": {},
     "output_type": "execute_result"
    }
   ],
   "source": [
    "relevant_docs = base_retriever.get_relevant_documents(\"What is Retrieval Augmented Generation?\")\n",
    "relevant_docs"
   ]
  },
  {
   "cell_type": "code",
   "execution_count": 70,
   "metadata": {},
   "outputs": [],
   "source": [
    "from langchain.prompts import ChatPromptTemplate\n",
    "\n",
    "template = \"\"\"Answer the question based only on the following context. If you cannot answer the question with the context, please respond with 'I don't know':\n",
    "\n",
    "### CONTEXT\n",
    "{context}\n",
    "\n",
    "### QUESTION\n",
    "Question: {question}\n",
    "\"\"\"\n",
    "\n",
    "prompt = ChatPromptTemplate.from_template(template)"
   ]
  },
  {
   "cell_type": "code",
   "execution_count": 80,
   "metadata": {},
   "outputs": [],
   "source": [
    "from operator import itemgetter\n",
    "\n",
    "from langchain_openai import ChatOpenAI\n",
    "from langchain.schema.output_parser import StrOutputParser\n",
    "from langchain.schema.runnable import RunnableLambda, RunnablePassthrough, RunnableParallel\n",
    "\n",
    "primary_qa_llm = ChatOpenAI(model_name=\"gpt-3.5-turbo\", temperature=0)\n",
    "\n",
    "retriever =  RunnableParallel({\"context\":  base_retriever, \"question\":RunnablePassthrough()})\n",
    "\n",
    "retrieval_augmented_qa_chain = retriever | {\"response\": prompt | primary_qa_llm, \"context\": itemgetter(\"context\")}\n"
   ]
  },
  {
   "cell_type": "code",
   "execution_count": 81,
   "metadata": {},
   "outputs": [
    {
     "name": "stdout",
     "output_type": "stream",
     "text": [
      "{'context': [Document(page_content='2020). RAG consists of three primary components:\\nTool Retrieval, Plan Generation, and Execution.1\\nIn this study, we focus on enhancing tool retrieval,\\nwith the goal of achieving subsequent improve-\\nments in plan generation.', metadata={'Authors': 'Raviteja Anantha, Tharun Bethi, Danil Vodianik, Srinivas Chappidi', 'Published': '2023-12-09', 'Summary': \"Large language models (LLMs) have the remarkable ability to solve new tasks\\nwith just a few examples, but they need access to the right tools. Retrieval\\nAugmented Generation (RAG) addresses this problem by retrieving a list of\\nrelevant tools for a given task. However, RAG's tool retrieval step requires\\nall the required information to be explicitly present in the query. This is a\\nlimitation, as semantic search, the widely adopted tool retrieval method, can\\nfail when the query is incomplete or lacks context. To address this limitation,\\nwe propose Context Tuning for RAG, which employs a smart context retrieval\\nsystem to fetch relevant information that improves both tool retrieval and plan\\ngeneration. Our lightweight context retrieval model uses numerical,\\ncategorical, and habitual usage signals to retrieve and rank context items. Our\\nempirical results demonstrate that context tuning significantly enhances\\nsemantic search, achieving a 3.5-fold and 1.5-fold improvement in Recall@K for\\ncontext retrieval and tool retrieval tasks respectively, and resulting in an\\n11.6% increase in LLM-based planner accuracy. Additionally, we show that our\\nproposed lightweight model using Reciprocal Rank Fusion (RRF) with LambdaMART\\noutperforms GPT-4 based retrieval. Moreover, we observe context augmentation at\\nplan generation, even after tool retrieval, reduces hallucination.\", 'Title': 'Context Tuning for Retrieval Augmented Generation'}),\n",
      "             Document(page_content='markable ability to solve new tasks with just a\\nfew examples, but they need access to the right\\ntools. Retrieval Augmented Generation (RAG)\\naddresses this problem by retrieving a list of\\nrelevant tools for a given task. However, RAG’s', metadata={'Authors': 'Raviteja Anantha, Tharun Bethi, Danil Vodianik, Srinivas Chappidi', 'Published': '2023-12-09', 'Summary': \"Large language models (LLMs) have the remarkable ability to solve new tasks\\nwith just a few examples, but they need access to the right tools. Retrieval\\nAugmented Generation (RAG) addresses this problem by retrieving a list of\\nrelevant tools for a given task. However, RAG's tool retrieval step requires\\nall the required information to be explicitly present in the query. This is a\\nlimitation, as semantic search, the widely adopted tool retrieval method, can\\nfail when the query is incomplete or lacks context. To address this limitation,\\nwe propose Context Tuning for RAG, which employs a smart context retrieval\\nsystem to fetch relevant information that improves both tool retrieval and plan\\ngeneration. Our lightweight context retrieval model uses numerical,\\ncategorical, and habitual usage signals to retrieve and rank context items. Our\\nempirical results demonstrate that context tuning significantly enhances\\nsemantic search, achieving a 3.5-fold and 1.5-fold improvement in Recall@K for\\ncontext retrieval and tool retrieval tasks respectively, and resulting in an\\n11.6% increase in LLM-based planner accuracy. Additionally, we show that our\\nproposed lightweight model using Reciprocal Rank Fusion (RRF) with LambdaMART\\noutperforms GPT-4 based retrieval. Moreover, we observe context augmentation at\\nplan generation, even after tool retrieval, reduces hallucination.\", 'Title': 'Context Tuning for Retrieval Augmented Generation'})],\n",
      " 'response': AIMessage(content='RAG stands for Retrieval Augmented Generation.')}\n"
     ]
    }
   ],
   "source": [
    "question = \"What is RAG?\"\n",
    "\n",
    "result = retrieval_augmented_qa_chain.invoke(question)\n",
    "\n",
    "pprint(result)"
   ]
  },
  {
   "cell_type": "markdown",
   "metadata": {},
   "source": [
    "# Ground Truth Dataset Generation"
   ]
  },
  {
   "cell_type": "code",
   "execution_count": 33,
   "metadata": {},
   "outputs": [],
   "source": [
    "from langchain.output_parsers import ResponseSchema\n",
    "from langchain.output_parsers import StructuredOutputParser\n",
    "\n",
    "question_schema = ResponseSchema(\n",
    "    name=\"question\",\n",
    "    description=\"a question about the context.\"\n",
    ")\n",
    "\n",
    "question_response_schemas = [\n",
    "    question_schema,\n",
    "]\n",
    "\n",
    "question_output_parser = StructuredOutputParser.from_response_schemas(question_response_schemas)\n",
    "format_instructions = question_output_parser.get_format_instructions()"
   ]
  },
  {
   "cell_type": "code",
   "execution_count": 34,
   "metadata": {},
   "outputs": [],
   "source": [
    "question_generation_llm = ChatOpenAI(model=\"gpt-3.5-turbo-16k\")\n",
    "\n",
    "bare_prompt_template = \"{content}\"\n",
    "bare_template = ChatPromptTemplate.from_template(template=bare_prompt_template)"
   ]
  },
  {
   "cell_type": "code",
   "execution_count": 37,
   "metadata": {},
   "outputs": [
    {
     "name": "stderr",
     "output_type": "stream",
     "text": [
      "100%|██████████| 10/10 [00:44<00:00,  4.48s/it]\n"
     ]
    }
   ],
   "source": [
    "from langchain.prompts import ChatPromptTemplate\n",
    "\n",
    "qa_template = \"\"\"\\\n",
    "You are a University Professor creating a test for advanced students. For each context, create a question that is specific to the context. Avoid creating generic or general questions.\n",
    "\n",
    "question: a question about the context.\n",
    "\n",
    "Format the output as JSON with the following keys:\n",
    "question\n",
    "\n",
    "context: {context}\n",
    "\"\"\"\n",
    "\n",
    "prompt_template = ChatPromptTemplate.from_template(template=qa_template)\n",
    "\n",
    "question_generation_chain = bare_template | question_generation_llm\n",
    "\n",
    "from tqdm import tqdm\n",
    "\n",
    "qac_triples = []\n",
    "\n",
    "for text in tqdm(docs[:10]):\n",
    "  messages = prompt_template.format_messages(\n",
    "      context=text,\n",
    "      format_instructions=format_instructions\n",
    "  )\n",
    "  response = question_generation_chain.invoke({\"content\" : messages})\n",
    "  try:\n",
    "    output_dict = question_output_parser.parse(response.content)\n",
    "  except Exception as e:\n",
    "    continue\n",
    "  output_dict[\"context\"] = text\n",
    "  qac_triples.append(output_dict)"
   ]
  },
  {
   "cell_type": "code",
   "execution_count": 45,
   "metadata": {},
   "outputs": [
    {
     "name": "stdout",
     "output_type": "stream",
     "text": [
      "10\n"
     ]
    },
    {
     "data": {
      "text/plain": [
       "[{'question': \"What is the focus of the paper 'A Survey on Retrieval-Augmented Text Generation'?\",\n",
       "  'context': Document(page_content='A Survey on Retrieval-Augmented Text Generation\\nHuayang Li♥,∗\\nYixuan Su♠,∗\\nDeng Cai♦,∗\\nYan Wang♣,∗\\nLemao Liu♣,∗\\n♥Nara Institute of Science and Technology\\n♠University of Cambridge\\n♦The Chinese University of Hong Kong\\n♣Tencent AI Lab', metadata={'Published': '2022-02-13', 'Title': 'A Survey on Retrieval-Augmented Text Generation', 'Authors': 'Huayang Li, Yixuan Su, Deng Cai, Yan Wang, Lemao Liu', 'Summary': 'Recently, retrieval-augmented text generation attracted increasing attention\\nof the computational linguistics community. Compared with conventional\\ngeneration models, retrieval-augmented text generation has remarkable\\nadvantages and particularly has achieved state-of-the-art performance in many\\nNLP tasks. This paper aims to conduct a survey about retrieval-augmented text\\ngeneration. It firstly highlights the generic paradigm of retrieval-augmented\\ngeneration, and then it reviews notable approaches according to different tasks\\nincluding dialogue response generation, machine translation, and other\\ngeneration tasks. Finally, it points out some important directions on top of\\nrecent methods to facilitate future research.'})},\n",
       " {'question': 'What is the title of the paper?',\n",
       "  'context': Document(page_content='Huayang Li♥,∗\\nYixuan Su♠,∗\\nDeng Cai♦,∗\\nYan Wang♣,∗\\nLemao Liu♣,∗\\n♥Nara Institute of Science and Technology\\n♠University of Cambridge\\n♦The Chinese University of Hong Kong\\n♣Tencent AI Lab\\nli.huayang.lh6@is.naist.jp, ys484@cam.ac.uk', metadata={'Published': '2022-02-13', 'Title': 'A Survey on Retrieval-Augmented Text Generation', 'Authors': 'Huayang Li, Yixuan Su, Deng Cai, Yan Wang, Lemao Liu', 'Summary': 'Recently, retrieval-augmented text generation attracted increasing attention\\nof the computational linguistics community. Compared with conventional\\ngeneration models, retrieval-augmented text generation has remarkable\\nadvantages and particularly has achieved state-of-the-art performance in many\\nNLP tasks. This paper aims to conduct a survey about retrieval-augmented text\\ngeneration. It firstly highlights the generic paradigm of retrieval-augmented\\ngeneration, and then it reviews notable approaches according to different tasks\\nincluding dialogue response generation, machine translation, and other\\ngeneration tasks. Finally, it points out some important directions on top of\\nrecent methods to facilitate future research.'})}]"
      ]
     },
     "execution_count": 45,
     "metadata": {},
     "output_type": "execute_result"
    }
   ],
   "source": [
    "print(len(qac_triples))\n",
    "qac_triples[:2]"
   ]
  },
  {
   "cell_type": "code",
   "execution_count": 61,
   "metadata": {},
   "outputs": [],
   "source": [
    "answer_generation_llm = ChatOpenAI(model=\"gpt-4-1106-preview\", temperature=0)\n",
    "\n",
    "answer_schema = ResponseSchema(\n",
    "    name=\"answer\",\n",
    "    description=\"an answer to the question\"\n",
    ")\n",
    "\n",
    "answer_response_schemas = [\n",
    "    answer_schema,\n",
    "]\n",
    "\n",
    "answer_output_parser = StructuredOutputParser.from_response_schemas(answer_response_schemas)\n",
    "format_instructions = answer_output_parser.get_format_instructions()\n",
    "\n",
    "qa_template = \"\"\"\\\n",
    "You are a University Professor creating a test for advanced students. For each question and context, create an answer.\n",
    "\n",
    "answer: a answer about the context.\n",
    "\n",
    "Format the output as JSON with the following keys:\n",
    "answer\n",
    "\n",
    "question: {question}\n",
    "context: {context}\n",
    "\"\"\"\n",
    "\n",
    "prompt_template = ChatPromptTemplate.from_template(template=qa_template)\n",
    "\n",
    "messages = prompt_template.format_messages(\n",
    "    context=qac_triples[0][\"context\"],\n",
    "    question=qac_triples[0][\"question\"],\n",
    "    format_instructions=format_instructions\n",
    ")\n",
    "\n",
    "answer_generation_chain = bare_template | answer_generation_llm\n",
    "\n",
    "response = answer_generation_chain.invoke({\"content\" : messages})\n",
    "output_dict = answer_output_parser.parse(response.content)"
   ]
  },
  {
   "cell_type": "code",
   "execution_count": 62,
   "metadata": {},
   "outputs": [
    {
     "data": {
      "text/plain": [
       "'```json\\n{\\n  \"answer\": \"The focus of the paper \\'A Survey on Retrieval-Augmented Text Generation\\' is to provide a comprehensive overview of the field of retrieval-augmented text generation, which has gained significant attention in the computational linguistics community. The paper highlights the generic paradigm of retrieval-augmented generation models, reviews notable approaches across various natural language processing tasks such as dialogue response generation and machine translation, and discusses the state-of-the-art performance achieved by these models. Additionally, the paper identifies and suggests important future research directions in this area.\",\\n  \"question\": \"What is the focus of the paper \\'A Survey on Retrieval-Augmented Text Generation\\'?\"\\n}\\n```'"
      ]
     },
     "execution_count": 62,
     "metadata": {},
     "output_type": "execute_result"
    }
   ],
   "source": [
    "response.content"
   ]
  },
  {
   "cell_type": "code",
   "execution_count": 47,
   "metadata": {},
   "outputs": [
    {
     "name": "stdout",
     "output_type": "stream",
     "text": [
      "answer\n",
      "The focus of the paper 'A Survey on Retrieval-Augmented Text Generation' is to provide a comprehensive overview of the recent advancements in retrieval-augmented text generation within the field of computational linguistics. It highlights the generic paradigm of retrieval-augmented generation models, reviews notable approaches across various natural language processing (NLP) tasks such as dialogue response generation and machine translation, and discusses the state-of-the-art performance achieved by these models. Additionally, the paper identifies and suggests important future research directions in this area.\n",
      "question\n",
      "What is the focus of the paper 'A Survey on Retrieval-Augmented Text Generation'?\n"
     ]
    }
   ],
   "source": [
    "for k, v in output_dict.items():\n",
    "  print(k)\n",
    "  print(v)"
   ]
  },
  {
   "cell_type": "code",
   "execution_count": 63,
   "metadata": {},
   "outputs": [
    {
     "name": "stderr",
     "output_type": "stream",
     "text": [
      "100%|██████████| 10/10 [00:46<00:00,  4.60s/it]\n"
     ]
    }
   ],
   "source": [
    "for triple in tqdm(qac_triples):\n",
    "  messages = prompt_template.format_messages(\n",
    "      context=triple[\"context\"],\n",
    "      question=triple[\"question\"],\n",
    "      format_instructions=format_instructions\n",
    "  )\n",
    "  response = answer_generation_chain.invoke({\"content\" : messages})\n",
    "  try:\n",
    "    output_dict = answer_output_parser.parse(response.content)\n",
    "  except Exception as e:\n",
    "    continue\n",
    "  triple[\"answer\"] = output_dict[\"answer\"]"
   ]
  },
  {
   "cell_type": "code",
   "execution_count": 64,
   "metadata": {},
   "outputs": [
    {
     "name": "stderr",
     "output_type": "stream",
     "text": [
      "/Users/abdi/miniconda3/envs/precision_rag_prompt_tuning/lib/python3.11/site-packages/tqdm/auto.py:21: TqdmWarning: IProgress not found. Please update jupyter and ipywidgets. See https://ipywidgets.readthedocs.io/en/stable/user_install.html\n",
      "  from .autonotebook import tqdm as notebook_tqdm\n"
     ]
    }
   ],
   "source": [
    "import pandas as pd\n",
    "from datasets import Dataset\n",
    "\n",
    "ground_truth_qac_set = pd.DataFrame(qac_triples)\n",
    "ground_truth_qac_set[\"context\"] = ground_truth_qac_set[\"context\"].map(lambda x: str(x.page_content))\n",
    "ground_truth_qac_set = ground_truth_qac_set.rename(columns={\"answer\" : \"ground_truth\"})\n",
    "\n",
    "\n",
    "eval_dataset = Dataset.from_pandas(ground_truth_qac_set)"
   ]
  },
  {
   "cell_type": "code",
   "execution_count": 65,
   "metadata": {},
   "outputs": [
    {
     "data": {
      "text/plain": [
       "Dataset({\n",
       "    features: ['question', 'context', 'ground_truth'],\n",
       "    num_rows: 10\n",
       "})"
      ]
     },
     "execution_count": 65,
     "metadata": {},
     "output_type": "execute_result"
    }
   ],
   "source": [
    "eval_dataset"
   ]
  },
  {
   "cell_type": "code",
   "execution_count": 66,
   "metadata": {},
   "outputs": [
    {
     "data": {
      "text/plain": [
       "{'question': \"What is the focus of the paper 'A Survey on Retrieval-Augmented Text Generation'?\",\n",
       " 'context': 'A Survey on Retrieval-Augmented Text Generation\\nHuayang Li♥,∗\\nYixuan Su♠,∗\\nDeng Cai♦,∗\\nYan Wang♣,∗\\nLemao Liu♣,∗\\n♥Nara Institute of Science and Technology\\n♠University of Cambridge\\n♦The Chinese University of Hong Kong\\n♣Tencent AI Lab',\n",
       " 'ground_truth': \"The focus of the paper 'A Survey on Retrieval-Augmented Text Generation' is to provide a comprehensive overview of the field of retrieval-augmented text generation, which has gained significant attention in the computational linguistics community. The paper highlights the generic paradigm of retrieval-augmented generation models, reviews notable approaches across various natural language processing tasks such as dialogue response generation and machine translation, and discusses the state-of-the-art performance achieved by these models. Additionally, the paper identifies and suggests important future research directions in this area.\"}"
      ]
     },
     "execution_count": 66,
     "metadata": {},
     "output_type": "execute_result"
    }
   ],
   "source": [
    "eval_dataset[0]"
   ]
  },
  {
   "cell_type": "code",
   "execution_count": 67,
   "metadata": {},
   "outputs": [
    {
     "name": "stderr",
     "output_type": "stream",
     "text": [
      "Creating CSV from Arrow format: 100%|██████████| 1/1 [00:00<00:00, 84.52ba/s]\n"
     ]
    },
    {
     "data": {
      "text/plain": [
       "6825"
      ]
     },
     "execution_count": 67,
     "metadata": {},
     "output_type": "execute_result"
    }
   ],
   "source": [
    "eval_dataset.to_csv(\"groundtruth_eval_dataset.csv\")"
   ]
  },
  {
   "cell_type": "markdown",
   "metadata": {},
   "source": [
    "# Evaluating RAG pipeline"
   ]
  },
  {
   "cell_type": "code",
   "execution_count": 68,
   "metadata": {},
   "outputs": [],
   "source": [
    "# To load the dataset from disk\n",
    "# from datasets import Dataset\n",
    "# eval_dataset = Dataset.from_csv(\"groundtruth_eval_dataset.csv\")"
   ]
  },
  {
   "cell_type": "code",
   "execution_count": 84,
   "metadata": {},
   "outputs": [],
   "source": [
    "from ragas.metrics import (\n",
    "    answer_relevancy,\n",
    "    faithfulness,\n",
    "    context_recall,\n",
    "    context_precision,\n",
    "    context_relevancy,\n",
    "    answer_correctness,\n",
    "    answer_similarity\n",
    ")\n",
    "\n",
    "from ragas.metrics.critique import harmfulness\n",
    "from ragas import evaluate\n",
    "\n",
    "def create_ragas_dataset(rag_pipeline, eval_dataset):\n",
    "  rag_dataset = []\n",
    "  for row in tqdm(eval_dataset):\n",
    "    answer = rag_pipeline.invoke( row[\"question\"])\n",
    "    rag_dataset.append(\n",
    "        {\"question\" : row[\"question\"],\n",
    "         \"answer\" : answer[\"response\"].content,\n",
    "         \"contexts\" : [context.page_content for context in answer[\"context\"]],\n",
    "         \"ground_truths\" : [row[\"ground_truth\"]]\n",
    "         }\n",
    "    )\n",
    "  rag_df = pd.DataFrame(rag_dataset)\n",
    "  rag_eval_dataset = Dataset.from_pandas(rag_df)\n",
    "  return rag_eval_dataset\n",
    "\n",
    "def evaluate_ragas_dataset(ragas_dataset):\n",
    "  result = evaluate(\n",
    "    ragas_dataset,\n",
    "    metrics=[\n",
    "        context_precision,\n",
    "        faithfulness,\n",
    "        answer_relevancy,\n",
    "        context_recall,\n",
    "        context_relevancy,\n",
    "        answer_correctness,\n",
    "        answer_similarity\n",
    "    ],\n",
    "  )\n",
    "  return result"
   ]
  },
  {
   "cell_type": "code",
   "execution_count": 85,
   "metadata": {},
   "outputs": [
    {
     "name": "stderr",
     "output_type": "stream",
     "text": [
      "100%|██████████| 10/10 [00:14<00:00,  1.49s/it]\n"
     ]
    }
   ],
   "source": [
    "from tqdm import tqdm\n",
    "import pandas as pd\n",
    "\n",
    "basic_qa_ragas_dataset = create_ragas_dataset(retrieval_augmented_qa_chain, eval_dataset)"
   ]
  },
  {
   "cell_type": "code",
   "execution_count": 86,
   "metadata": {},
   "outputs": [
    {
     "data": {
      "text/plain": [
       "Dataset({\n",
       "    features: ['question', 'answer', 'contexts', 'ground_truths'],\n",
       "    num_rows: 10\n",
       "})"
      ]
     },
     "execution_count": 86,
     "metadata": {},
     "output_type": "execute_result"
    }
   ],
   "source": [
    "basic_qa_ragas_dataset"
   ]
  },
  {
   "cell_type": "code",
   "execution_count": 87,
   "metadata": {},
   "outputs": [
    {
     "data": {
      "text/plain": [
       "{'question': \"What is the focus of the paper 'A Survey on Retrieval-Augmented Text Generation'?\",\n",
       " 'answer': \"The focus of the paper 'A Survey on Retrieval-Augmented Text Generation' is to conduct a survey about retrieval-augmented text generation.\",\n",
       " 'contexts': ['paper aims to conduct a survey about retrieval-\\naugmented text generation. It ﬁrstly highlights\\nthe generic paradigm of retrieval-augmented\\ngeneration, and then it reviews notable ap-\\nproaches according to different tasks including',\n",
       "  'A Survey on Retrieval-Augmented Text Generation\\nHuayang Li♥,∗\\nYixuan Su♠,∗\\nDeng Cai♦,∗\\nYan Wang♣,∗\\nLemao Liu♣,∗\\n♥Nara Institute of Science and Technology\\n♠University of Cambridge\\n♦The Chinese University of Hong Kong\\n♣Tencent AI Lab'],\n",
       " 'ground_truths': [\"The focus of the paper 'A Survey on Retrieval-Augmented Text Generation' is to provide a comprehensive overview of the field of retrieval-augmented text generation, which has gained significant attention in the computational linguistics community. The paper highlights the generic paradigm of retrieval-augmented generation models, reviews notable approaches across various natural language processing tasks such as dialogue response generation and machine translation, and discusses the state-of-the-art performance achieved by these models. Additionally, the paper identifies and suggests important future research directions in this area.\"]}"
      ]
     },
     "execution_count": 87,
     "metadata": {},
     "output_type": "execute_result"
    }
   ],
   "source": [
    "basic_qa_ragas_dataset[0]"
   ]
  },
  {
   "cell_type": "code",
   "execution_count": 88,
   "metadata": {},
   "outputs": [
    {
     "name": "stderr",
     "output_type": "stream",
     "text": [
      "Creating CSV from Arrow format: 100%|██████████| 1/1 [00:00<00:00, 364.47ba/s]\n"
     ]
    },
    {
     "data": {
      "text/plain": [
       "11040"
      ]
     },
     "execution_count": 88,
     "metadata": {},
     "output_type": "execute_result"
    }
   ],
   "source": [
    "basic_qa_ragas_dataset.to_csv(\"basic_qa_ragas_dataset.csv\")"
   ]
  },
  {
   "cell_type": "code",
   "execution_count": 89,
   "metadata": {},
   "outputs": [
    {
     "name": "stdout",
     "output_type": "stream",
     "text": [
      "evaluating with [context_precision]\n"
     ]
    },
    {
     "name": "stderr",
     "output_type": "stream",
     "text": [
      "100%|██████████| 1/1 [00:08<00:00,  8.23s/it]\n"
     ]
    },
    {
     "name": "stdout",
     "output_type": "stream",
     "text": [
      "evaluating with [faithfulness]\n"
     ]
    },
    {
     "name": "stderr",
     "output_type": "stream",
     "text": [
      "100%|██████████| 1/1 [00:23<00:00, 23.31s/it]\n"
     ]
    },
    {
     "name": "stdout",
     "output_type": "stream",
     "text": [
      "evaluating with [answer_relevancy]\n"
     ]
    },
    {
     "name": "stderr",
     "output_type": "stream",
     "text": [
      "100%|██████████| 1/1 [00:12<00:00, 12.19s/it]\n"
     ]
    },
    {
     "name": "stdout",
     "output_type": "stream",
     "text": [
      "evaluating with [context_recall]\n"
     ]
    },
    {
     "name": "stderr",
     "output_type": "stream",
     "text": [
      "100%|██████████| 1/1 [00:20<00:00, 20.50s/it]\n"
     ]
    },
    {
     "name": "stdout",
     "output_type": "stream",
     "text": [
      "evaluating with [context_relevancy]\n"
     ]
    },
    {
     "name": "stderr",
     "output_type": "stream",
     "text": [
      "100%|██████████| 1/1 [00:01<00:00,  1.78s/it]\n"
     ]
    },
    {
     "name": "stdout",
     "output_type": "stream",
     "text": [
      "evaluating with [answer_correctness]\n"
     ]
    },
    {
     "name": "stderr",
     "output_type": "stream",
     "text": [
      "100%|██████████| 1/1 [00:18<00:00, 18.16s/it]\n"
     ]
    },
    {
     "name": "stdout",
     "output_type": "stream",
     "text": [
      "evaluating with [answer_similarity]\n"
     ]
    },
    {
     "name": "stderr",
     "output_type": "stream",
     "text": [
      "100%|██████████| 1/1 [00:01<00:00,  1.91s/it]\n"
     ]
    }
   ],
   "source": [
    "basic_qa_result = evaluate_ragas_dataset(basic_qa_ragas_dataset)"
   ]
  },
  {
   "cell_type": "code",
   "execution_count": 90,
   "metadata": {},
   "outputs": [
    {
     "data": {
      "text/plain": [
       "{'context_precision': 0.3000, 'faithfulness': 0.3000, 'answer_relevancy': 1.0000, 'context_recall': 0.8667, 'context_relevancy': 0.0664, 'answer_correctness': 0.4830, 'answer_similarity': 0.8857}"
      ]
     },
     "execution_count": 90,
     "metadata": {},
     "output_type": "execute_result"
    }
   ],
   "source": [
    "basic_qa_result"
   ]
  },
  {
   "cell_type": "markdown",
   "metadata": {},
   "source": [
    "# Trying out other retrievers"
   ]
  },
  {
   "cell_type": "code",
   "execution_count": 110,
   "metadata": {},
   "outputs": [],
   "source": [
    "def create_qa_chain(retriever):\n",
    "  primary_qa_llm = ChatOpenAI(model_name=\"gpt-3.5-turbo\", temperature=0)\n",
    "  retriever = RunnableParallel({\"context\":  retriever, \"question\":RunnablePassthrough()})\n",
    "\n",
    "  created_qa_chain =retriever | { \"response\": prompt | primary_qa_llm,\"context\": itemgetter(\"context\"), }\n",
    "  \n",
    "\n",
    "  return created_qa_chain"
   ]
  },
  {
   "cell_type": "markdown",
   "metadata": {},
   "source": [
    "#### Parent Document Retriever"
   ]
  },
  {
   "cell_type": "code",
   "execution_count": 91,
   "metadata": {},
   "outputs": [],
   "source": [
    "from langchain.retrievers import ParentDocumentRetriever\n",
    "from langchain.storage import InMemoryStore\n",
    "\n",
    "parent_splitter = RecursiveCharacterTextSplitter(chunk_size=1500)\n",
    "child_splitter = RecursiveCharacterTextSplitter(chunk_size=200)\n",
    "\n",
    "vectorstore = Chroma(collection_name=\"split_parents\", embedding_function=OpenAIEmbeddings())\n",
    "\n",
    "store = InMemoryStore()"
   ]
  },
  {
   "cell_type": "code",
   "execution_count": 92,
   "metadata": {},
   "outputs": [],
   "source": [
    "parent_document_retriever = ParentDocumentRetriever(\n",
    "    vectorstore=vectorstore,\n",
    "    docstore=store,\n",
    "    child_splitter=child_splitter,\n",
    "    parent_splitter=parent_splitter,\n",
    ")"
   ]
  },
  {
   "cell_type": "code",
   "execution_count": 98,
   "metadata": {},
   "outputs": [
    {
     "ename": "KeyboardInterrupt",
     "evalue": "",
     "output_type": "error",
     "traceback": [
      "\u001b[0;31m---------------------------------------------------------------------------\u001b[0m",
      "\u001b[0;31mKeyboardInterrupt\u001b[0m                         Traceback (most recent call last)",
      "Cell \u001b[0;32mIn[98], line 1\u001b[0m\n\u001b[0;32m----> 1\u001b[0m \u001b[43mparent_document_retriever\u001b[49m\u001b[38;5;241;43m.\u001b[39;49m\u001b[43madd_documents\u001b[49m\u001b[43m(\u001b[49m\u001b[43mbase_docs\u001b[49m\u001b[43m)\u001b[49m\n\u001b[1;32m      2\u001b[0m parent_document_retriever \u001b[38;5;241m=\u001b[39m  RunnableParallel({\u001b[38;5;124m\"\u001b[39m\u001b[38;5;124mcontext\u001b[39m\u001b[38;5;124m\"\u001b[39m:  parent_document_retriever, \u001b[38;5;124m\"\u001b[39m\u001b[38;5;124mquestion\u001b[39m\u001b[38;5;124m\"\u001b[39m:RunnablePassthrough()})\n",
      "File \u001b[0;32m~/miniconda3/envs/precision_rag_prompt_tuning/lib/python3.11/site-packages/langchain/retrievers/parent_document_retriever.py:113\u001b[0m, in \u001b[0;36mParentDocumentRetriever.add_documents\u001b[0;34m(self, documents, ids, add_to_docstore)\u001b[0m\n\u001b[1;32m    111\u001b[0m     docs\u001b[38;5;241m.\u001b[39mextend(sub_docs)\n\u001b[1;32m    112\u001b[0m     full_docs\u001b[38;5;241m.\u001b[39mappend((_id, doc))\n\u001b[0;32m--> 113\u001b[0m \u001b[38;5;28;43mself\u001b[39;49m\u001b[38;5;241;43m.\u001b[39;49m\u001b[43mvectorstore\u001b[49m\u001b[38;5;241;43m.\u001b[39;49m\u001b[43madd_documents\u001b[49m\u001b[43m(\u001b[49m\u001b[43mdocs\u001b[49m\u001b[43m)\u001b[49m\n\u001b[1;32m    114\u001b[0m \u001b[38;5;28;01mif\u001b[39;00m add_to_docstore:\n\u001b[1;32m    115\u001b[0m     \u001b[38;5;28mself\u001b[39m\u001b[38;5;241m.\u001b[39mdocstore\u001b[38;5;241m.\u001b[39mmset(full_docs)\n",
      "File \u001b[0;32m~/miniconda3/envs/precision_rag_prompt_tuning/lib/python3.11/site-packages/langchain_core/vectorstores.py:119\u001b[0m, in \u001b[0;36mVectorStore.add_documents\u001b[0;34m(self, documents, **kwargs)\u001b[0m\n\u001b[1;32m    117\u001b[0m texts \u001b[38;5;241m=\u001b[39m [doc\u001b[38;5;241m.\u001b[39mpage_content \u001b[38;5;28;01mfor\u001b[39;00m doc \u001b[38;5;129;01min\u001b[39;00m documents]\n\u001b[1;32m    118\u001b[0m metadatas \u001b[38;5;241m=\u001b[39m [doc\u001b[38;5;241m.\u001b[39mmetadata \u001b[38;5;28;01mfor\u001b[39;00m doc \u001b[38;5;129;01min\u001b[39;00m documents]\n\u001b[0;32m--> 119\u001b[0m \u001b[38;5;28;01mreturn\u001b[39;00m \u001b[38;5;28;43mself\u001b[39;49m\u001b[38;5;241;43m.\u001b[39;49m\u001b[43madd_texts\u001b[49m\u001b[43m(\u001b[49m\u001b[43mtexts\u001b[49m\u001b[43m,\u001b[49m\u001b[43m \u001b[49m\u001b[43mmetadatas\u001b[49m\u001b[43m,\u001b[49m\u001b[43m \u001b[49m\u001b[38;5;241;43m*\u001b[39;49m\u001b[38;5;241;43m*\u001b[39;49m\u001b[43mkwargs\u001b[49m\u001b[43m)\u001b[49m\n",
      "File \u001b[0;32m~/miniconda3/envs/precision_rag_prompt_tuning/lib/python3.11/site-packages/langchain_community/vectorstores/chroma.py:275\u001b[0m, in \u001b[0;36mChroma.add_texts\u001b[0;34m(self, texts, metadatas, ids, **kwargs)\u001b[0m\n\u001b[1;32m    273\u001b[0m texts \u001b[38;5;241m=\u001b[39m \u001b[38;5;28mlist\u001b[39m(texts)\n\u001b[1;32m    274\u001b[0m \u001b[38;5;28;01mif\u001b[39;00m \u001b[38;5;28mself\u001b[39m\u001b[38;5;241m.\u001b[39m_embedding_function \u001b[38;5;129;01mis\u001b[39;00m \u001b[38;5;129;01mnot\u001b[39;00m \u001b[38;5;28;01mNone\u001b[39;00m:\n\u001b[0;32m--> 275\u001b[0m     embeddings \u001b[38;5;241m=\u001b[39m \u001b[38;5;28;43mself\u001b[39;49m\u001b[38;5;241;43m.\u001b[39;49m\u001b[43m_embedding_function\u001b[49m\u001b[38;5;241;43m.\u001b[39;49m\u001b[43membed_documents\u001b[49m\u001b[43m(\u001b[49m\u001b[43mtexts\u001b[49m\u001b[43m)\u001b[49m\n\u001b[1;32m    276\u001b[0m \u001b[38;5;28;01mif\u001b[39;00m metadatas:\n\u001b[1;32m    277\u001b[0m     \u001b[38;5;66;03m# fill metadatas with empty dicts if somebody\u001b[39;00m\n\u001b[1;32m    278\u001b[0m     \u001b[38;5;66;03m# did not specify metadata for all texts\u001b[39;00m\n\u001b[1;32m    279\u001b[0m     length_diff \u001b[38;5;241m=\u001b[39m \u001b[38;5;28mlen\u001b[39m(texts) \u001b[38;5;241m-\u001b[39m \u001b[38;5;28mlen\u001b[39m(metadatas)\n",
      "File \u001b[0;32m~/miniconda3/envs/precision_rag_prompt_tuning/lib/python3.11/site-packages/langchain_openai/embeddings/base.py:482\u001b[0m, in \u001b[0;36mOpenAIEmbeddings.embed_documents\u001b[0;34m(self, texts, chunk_size)\u001b[0m\n\u001b[1;32m    479\u001b[0m \u001b[38;5;66;03m# NOTE: to keep things simple, we assume the list may contain texts longer\u001b[39;00m\n\u001b[1;32m    480\u001b[0m \u001b[38;5;66;03m#       than the maximum context and use length-safe embedding function.\u001b[39;00m\n\u001b[1;32m    481\u001b[0m engine \u001b[38;5;241m=\u001b[39m cast(\u001b[38;5;28mstr\u001b[39m, \u001b[38;5;28mself\u001b[39m\u001b[38;5;241m.\u001b[39mdeployment)\n\u001b[0;32m--> 482\u001b[0m \u001b[38;5;28;01mreturn\u001b[39;00m \u001b[38;5;28;43mself\u001b[39;49m\u001b[38;5;241;43m.\u001b[39;49m\u001b[43m_get_len_safe_embeddings\u001b[49m\u001b[43m(\u001b[49m\u001b[43mtexts\u001b[49m\u001b[43m,\u001b[49m\u001b[43m \u001b[49m\u001b[43mengine\u001b[49m\u001b[38;5;241;43m=\u001b[39;49m\u001b[43mengine\u001b[49m\u001b[43m)\u001b[49m\n",
      "File \u001b[0;32m~/miniconda3/envs/precision_rag_prompt_tuning/lib/python3.11/site-packages/langchain_openai/embeddings/base.py:325\u001b[0m, in \u001b[0;36mOpenAIEmbeddings._get_len_safe_embeddings\u001b[0;34m(self, texts, engine, chunk_size)\u001b[0m\n\u001b[1;32m    323\u001b[0m batched_embeddings: List[List[\u001b[38;5;28mfloat\u001b[39m]] \u001b[38;5;241m=\u001b[39m []\n\u001b[1;32m    324\u001b[0m \u001b[38;5;28;01mfor\u001b[39;00m i \u001b[38;5;129;01min\u001b[39;00m _iter:\n\u001b[0;32m--> 325\u001b[0m     response \u001b[38;5;241m=\u001b[39m \u001b[38;5;28;43mself\u001b[39;49m\u001b[38;5;241;43m.\u001b[39;49m\u001b[43mclient\u001b[49m\u001b[38;5;241;43m.\u001b[39;49m\u001b[43mcreate\u001b[49m\u001b[43m(\u001b[49m\n\u001b[1;32m    326\u001b[0m \u001b[43m        \u001b[49m\u001b[38;5;28;43minput\u001b[39;49m\u001b[38;5;241;43m=\u001b[39;49m\u001b[43mtokens\u001b[49m\u001b[43m[\u001b[49m\u001b[43mi\u001b[49m\u001b[43m \u001b[49m\u001b[43m:\u001b[49m\u001b[43m \u001b[49m\u001b[43mi\u001b[49m\u001b[43m \u001b[49m\u001b[38;5;241;43m+\u001b[39;49m\u001b[43m \u001b[49m\u001b[43m_chunk_size\u001b[49m\u001b[43m]\u001b[49m\u001b[43m,\u001b[49m\u001b[43m \u001b[49m\u001b[38;5;241;43m*\u001b[39;49m\u001b[38;5;241;43m*\u001b[39;49m\u001b[38;5;28;43mself\u001b[39;49m\u001b[38;5;241;43m.\u001b[39;49m\u001b[43m_invocation_params\u001b[49m\n\u001b[1;32m    327\u001b[0m \u001b[43m    \u001b[49m\u001b[43m)\u001b[49m\n\u001b[1;32m    328\u001b[0m     \u001b[38;5;28;01mif\u001b[39;00m \u001b[38;5;129;01mnot\u001b[39;00m \u001b[38;5;28misinstance\u001b[39m(response, \u001b[38;5;28mdict\u001b[39m):\n\u001b[1;32m    329\u001b[0m         response \u001b[38;5;241m=\u001b[39m response\u001b[38;5;241m.\u001b[39mdict()\n",
      "File \u001b[0;32m~/miniconda3/envs/precision_rag_prompt_tuning/lib/python3.11/site-packages/openai/resources/embeddings.py:108\u001b[0m, in \u001b[0;36mEmbeddings.create\u001b[0;34m(self, input, model, encoding_format, user, extra_headers, extra_query, extra_body, timeout)\u001b[0m\n\u001b[1;32m    102\u001b[0m         embedding\u001b[38;5;241m.\u001b[39membedding \u001b[38;5;241m=\u001b[39m np\u001b[38;5;241m.\u001b[39mfrombuffer(  \u001b[38;5;66;03m# type: ignore[no-untyped-call]\u001b[39;00m\n\u001b[1;32m    103\u001b[0m             base64\u001b[38;5;241m.\u001b[39mb64decode(data), dtype\u001b[38;5;241m=\u001b[39m\u001b[38;5;124m\"\u001b[39m\u001b[38;5;124mfloat32\u001b[39m\u001b[38;5;124m\"\u001b[39m\n\u001b[1;32m    104\u001b[0m         )\u001b[38;5;241m.\u001b[39mtolist()\n\u001b[1;32m    106\u001b[0m     \u001b[38;5;28;01mreturn\u001b[39;00m obj\n\u001b[0;32m--> 108\u001b[0m \u001b[38;5;28;01mreturn\u001b[39;00m \u001b[38;5;28;43mself\u001b[39;49m\u001b[38;5;241;43m.\u001b[39;49m\u001b[43m_post\u001b[49m\u001b[43m(\u001b[49m\n\u001b[1;32m    109\u001b[0m \u001b[43m    \u001b[49m\u001b[38;5;124;43m\"\u001b[39;49m\u001b[38;5;124;43m/embeddings\u001b[39;49m\u001b[38;5;124;43m\"\u001b[39;49m\u001b[43m,\u001b[49m\n\u001b[1;32m    110\u001b[0m \u001b[43m    \u001b[49m\u001b[43mbody\u001b[49m\u001b[38;5;241;43m=\u001b[39;49m\u001b[43mmaybe_transform\u001b[49m\u001b[43m(\u001b[49m\u001b[43mparams\u001b[49m\u001b[43m,\u001b[49m\u001b[43m \u001b[49m\u001b[43membedding_create_params\u001b[49m\u001b[38;5;241;43m.\u001b[39;49m\u001b[43mEmbeddingCreateParams\u001b[49m\u001b[43m)\u001b[49m\u001b[43m,\u001b[49m\n\u001b[1;32m    111\u001b[0m \u001b[43m    \u001b[49m\u001b[43moptions\u001b[49m\u001b[38;5;241;43m=\u001b[39;49m\u001b[43mmake_request_options\u001b[49m\u001b[43m(\u001b[49m\n\u001b[1;32m    112\u001b[0m \u001b[43m        \u001b[49m\u001b[43mextra_headers\u001b[49m\u001b[38;5;241;43m=\u001b[39;49m\u001b[43mextra_headers\u001b[49m\u001b[43m,\u001b[49m\n\u001b[1;32m    113\u001b[0m \u001b[43m        \u001b[49m\u001b[43mextra_query\u001b[49m\u001b[38;5;241;43m=\u001b[39;49m\u001b[43mextra_query\u001b[49m\u001b[43m,\u001b[49m\n\u001b[1;32m    114\u001b[0m \u001b[43m        \u001b[49m\u001b[43mextra_body\u001b[49m\u001b[38;5;241;43m=\u001b[39;49m\u001b[43mextra_body\u001b[49m\u001b[43m,\u001b[49m\n\u001b[1;32m    115\u001b[0m \u001b[43m        \u001b[49m\u001b[43mtimeout\u001b[49m\u001b[38;5;241;43m=\u001b[39;49m\u001b[43mtimeout\u001b[49m\u001b[43m,\u001b[49m\n\u001b[1;32m    116\u001b[0m \u001b[43m        \u001b[49m\u001b[43mpost_parser\u001b[49m\u001b[38;5;241;43m=\u001b[39;49m\u001b[43mparser\u001b[49m\u001b[43m,\u001b[49m\n\u001b[1;32m    117\u001b[0m \u001b[43m    \u001b[49m\u001b[43m)\u001b[49m\u001b[43m,\u001b[49m\n\u001b[1;32m    118\u001b[0m \u001b[43m    \u001b[49m\u001b[43mcast_to\u001b[49m\u001b[38;5;241;43m=\u001b[39;49m\u001b[43mCreateEmbeddingResponse\u001b[49m\u001b[43m,\u001b[49m\n\u001b[1;32m    119\u001b[0m \u001b[43m\u001b[49m\u001b[43m)\u001b[49m\n",
      "File \u001b[0;32m~/miniconda3/envs/precision_rag_prompt_tuning/lib/python3.11/site-packages/openai/_base_client.py:1167\u001b[0m, in \u001b[0;36mSyncAPIClient.post\u001b[0;34m(self, path, cast_to, body, options, files, stream, stream_cls)\u001b[0m\n\u001b[1;32m   1153\u001b[0m \u001b[38;5;28;01mdef\u001b[39;00m \u001b[38;5;21mpost\u001b[39m(\n\u001b[1;32m   1154\u001b[0m     \u001b[38;5;28mself\u001b[39m,\n\u001b[1;32m   1155\u001b[0m     path: \u001b[38;5;28mstr\u001b[39m,\n\u001b[0;32m   (...)\u001b[0m\n\u001b[1;32m   1162\u001b[0m     stream_cls: \u001b[38;5;28mtype\u001b[39m[_StreamT] \u001b[38;5;241m|\u001b[39m \u001b[38;5;28;01mNone\u001b[39;00m \u001b[38;5;241m=\u001b[39m \u001b[38;5;28;01mNone\u001b[39;00m,\n\u001b[1;32m   1163\u001b[0m ) \u001b[38;5;241m-\u001b[39m\u001b[38;5;241m>\u001b[39m ResponseT \u001b[38;5;241m|\u001b[39m _StreamT:\n\u001b[1;32m   1164\u001b[0m     opts \u001b[38;5;241m=\u001b[39m FinalRequestOptions\u001b[38;5;241m.\u001b[39mconstruct(\n\u001b[1;32m   1165\u001b[0m         method\u001b[38;5;241m=\u001b[39m\u001b[38;5;124m\"\u001b[39m\u001b[38;5;124mpost\u001b[39m\u001b[38;5;124m\"\u001b[39m, url\u001b[38;5;241m=\u001b[39mpath, json_data\u001b[38;5;241m=\u001b[39mbody, files\u001b[38;5;241m=\u001b[39mto_httpx_files(files), \u001b[38;5;241m*\u001b[39m\u001b[38;5;241m*\u001b[39moptions\n\u001b[1;32m   1166\u001b[0m     )\n\u001b[0;32m-> 1167\u001b[0m     \u001b[38;5;28;01mreturn\u001b[39;00m cast(ResponseT, \u001b[38;5;28;43mself\u001b[39;49m\u001b[38;5;241;43m.\u001b[39;49m\u001b[43mrequest\u001b[49m\u001b[43m(\u001b[49m\u001b[43mcast_to\u001b[49m\u001b[43m,\u001b[49m\u001b[43m \u001b[49m\u001b[43mopts\u001b[49m\u001b[43m,\u001b[49m\u001b[43m \u001b[49m\u001b[43mstream\u001b[49m\u001b[38;5;241;43m=\u001b[39;49m\u001b[43mstream\u001b[49m\u001b[43m,\u001b[49m\u001b[43m \u001b[49m\u001b[43mstream_cls\u001b[49m\u001b[38;5;241;43m=\u001b[39;49m\u001b[43mstream_cls\u001b[49m\u001b[43m)\u001b[49m)\n",
      "File \u001b[0;32m~/miniconda3/envs/precision_rag_prompt_tuning/lib/python3.11/site-packages/openai/_base_client.py:856\u001b[0m, in \u001b[0;36mSyncAPIClient.request\u001b[0;34m(self, cast_to, options, remaining_retries, stream, stream_cls)\u001b[0m\n\u001b[1;32m    847\u001b[0m \u001b[38;5;28;01mdef\u001b[39;00m \u001b[38;5;21mrequest\u001b[39m(\n\u001b[1;32m    848\u001b[0m     \u001b[38;5;28mself\u001b[39m,\n\u001b[1;32m    849\u001b[0m     cast_to: Type[ResponseT],\n\u001b[0;32m   (...)\u001b[0m\n\u001b[1;32m    854\u001b[0m     stream_cls: \u001b[38;5;28mtype\u001b[39m[_StreamT] \u001b[38;5;241m|\u001b[39m \u001b[38;5;28;01mNone\u001b[39;00m \u001b[38;5;241m=\u001b[39m \u001b[38;5;28;01mNone\u001b[39;00m,\n\u001b[1;32m    855\u001b[0m ) \u001b[38;5;241m-\u001b[39m\u001b[38;5;241m>\u001b[39m ResponseT \u001b[38;5;241m|\u001b[39m _StreamT:\n\u001b[0;32m--> 856\u001b[0m     \u001b[38;5;28;01mreturn\u001b[39;00m \u001b[38;5;28;43mself\u001b[39;49m\u001b[38;5;241;43m.\u001b[39;49m\u001b[43m_request\u001b[49m\u001b[43m(\u001b[49m\n\u001b[1;32m    857\u001b[0m \u001b[43m        \u001b[49m\u001b[43mcast_to\u001b[49m\u001b[38;5;241;43m=\u001b[39;49m\u001b[43mcast_to\u001b[49m\u001b[43m,\u001b[49m\n\u001b[1;32m    858\u001b[0m \u001b[43m        \u001b[49m\u001b[43moptions\u001b[49m\u001b[38;5;241;43m=\u001b[39;49m\u001b[43moptions\u001b[49m\u001b[43m,\u001b[49m\n\u001b[1;32m    859\u001b[0m \u001b[43m        \u001b[49m\u001b[43mstream\u001b[49m\u001b[38;5;241;43m=\u001b[39;49m\u001b[43mstream\u001b[49m\u001b[43m,\u001b[49m\n\u001b[1;32m    860\u001b[0m \u001b[43m        \u001b[49m\u001b[43mstream_cls\u001b[49m\u001b[38;5;241;43m=\u001b[39;49m\u001b[43mstream_cls\u001b[49m\u001b[43m,\u001b[49m\n\u001b[1;32m    861\u001b[0m \u001b[43m        \u001b[49m\u001b[43mremaining_retries\u001b[49m\u001b[38;5;241;43m=\u001b[39;49m\u001b[43mremaining_retries\u001b[49m\u001b[43m,\u001b[49m\n\u001b[1;32m    862\u001b[0m \u001b[43m    \u001b[49m\u001b[43m)\u001b[49m\n",
      "File \u001b[0;32m~/miniconda3/envs/precision_rag_prompt_tuning/lib/python3.11/site-packages/openai/_base_client.py:885\u001b[0m, in \u001b[0;36mSyncAPIClient._request\u001b[0;34m(self, cast_to, options, remaining_retries, stream, stream_cls)\u001b[0m\n\u001b[1;32m    882\u001b[0m     kwargs[\u001b[38;5;124m\"\u001b[39m\u001b[38;5;124mauth\u001b[39m\u001b[38;5;124m\"\u001b[39m] \u001b[38;5;241m=\u001b[39m \u001b[38;5;28mself\u001b[39m\u001b[38;5;241m.\u001b[39mcustom_auth\n\u001b[1;32m    884\u001b[0m \u001b[38;5;28;01mtry\u001b[39;00m:\n\u001b[0;32m--> 885\u001b[0m     response \u001b[38;5;241m=\u001b[39m \u001b[38;5;28;43mself\u001b[39;49m\u001b[38;5;241;43m.\u001b[39;49m\u001b[43m_client\u001b[49m\u001b[38;5;241;43m.\u001b[39;49m\u001b[43msend\u001b[49m\u001b[43m(\u001b[49m\n\u001b[1;32m    886\u001b[0m \u001b[43m        \u001b[49m\u001b[43mrequest\u001b[49m\u001b[43m,\u001b[49m\n\u001b[1;32m    887\u001b[0m \u001b[43m        \u001b[49m\u001b[43mstream\u001b[49m\u001b[38;5;241;43m=\u001b[39;49m\u001b[43mstream\u001b[49m\u001b[43m \u001b[49m\u001b[38;5;129;43;01mor\u001b[39;49;00m\u001b[43m \u001b[49m\u001b[38;5;28;43mself\u001b[39;49m\u001b[38;5;241;43m.\u001b[39;49m\u001b[43m_should_stream_response_body\u001b[49m\u001b[43m(\u001b[49m\u001b[43mrequest\u001b[49m\u001b[38;5;241;43m=\u001b[39;49m\u001b[43mrequest\u001b[49m\u001b[43m)\u001b[49m\u001b[43m,\u001b[49m\n\u001b[1;32m    888\u001b[0m \u001b[43m        \u001b[49m\u001b[38;5;241;43m*\u001b[39;49m\u001b[38;5;241;43m*\u001b[39;49m\u001b[43mkwargs\u001b[49m\u001b[43m,\u001b[49m\n\u001b[1;32m    889\u001b[0m \u001b[43m    \u001b[49m\u001b[43m)\u001b[49m\n\u001b[1;32m    890\u001b[0m \u001b[38;5;28;01mexcept\u001b[39;00m httpx\u001b[38;5;241m.\u001b[39mTimeoutException \u001b[38;5;28;01mas\u001b[39;00m err:\n\u001b[1;32m    891\u001b[0m     log\u001b[38;5;241m.\u001b[39mdebug(\u001b[38;5;124m\"\u001b[39m\u001b[38;5;124mEncountered httpx.TimeoutException\u001b[39m\u001b[38;5;124m\"\u001b[39m, exc_info\u001b[38;5;241m=\u001b[39m\u001b[38;5;28;01mTrue\u001b[39;00m)\n",
      "File \u001b[0;32m~/miniconda3/envs/precision_rag_prompt_tuning/lib/python3.11/site-packages/httpx/_client.py:929\u001b[0m, in \u001b[0;36mClient.send\u001b[0;34m(self, request, stream, auth, follow_redirects)\u001b[0m\n\u001b[1;32m    927\u001b[0m \u001b[38;5;28;01mexcept\u001b[39;00m \u001b[38;5;167;01mBaseException\u001b[39;00m \u001b[38;5;28;01mas\u001b[39;00m exc:\n\u001b[1;32m    928\u001b[0m     response\u001b[38;5;241m.\u001b[39mclose()\n\u001b[0;32m--> 929\u001b[0m     \u001b[38;5;28;01mraise\u001b[39;00m exc\n",
      "File \u001b[0;32m~/miniconda3/envs/precision_rag_prompt_tuning/lib/python3.11/site-packages/httpx/_client.py:923\u001b[0m, in \u001b[0;36mClient.send\u001b[0;34m(self, request, stream, auth, follow_redirects)\u001b[0m\n\u001b[1;32m    921\u001b[0m \u001b[38;5;28;01mtry\u001b[39;00m:\n\u001b[1;32m    922\u001b[0m     \u001b[38;5;28;01mif\u001b[39;00m \u001b[38;5;129;01mnot\u001b[39;00m stream:\n\u001b[0;32m--> 923\u001b[0m         \u001b[43mresponse\u001b[49m\u001b[38;5;241;43m.\u001b[39;49m\u001b[43mread\u001b[49m\u001b[43m(\u001b[49m\u001b[43m)\u001b[49m\n\u001b[1;32m    925\u001b[0m     \u001b[38;5;28;01mreturn\u001b[39;00m response\n\u001b[1;32m    927\u001b[0m \u001b[38;5;28;01mexcept\u001b[39;00m \u001b[38;5;167;01mBaseException\u001b[39;00m \u001b[38;5;28;01mas\u001b[39;00m exc:\n",
      "File \u001b[0;32m~/miniconda3/envs/precision_rag_prompt_tuning/lib/python3.11/site-packages/httpx/_models.py:811\u001b[0m, in \u001b[0;36mResponse.read\u001b[0;34m(self)\u001b[0m\n\u001b[1;32m    807\u001b[0m \u001b[38;5;250m\u001b[39m\u001b[38;5;124;03m\"\"\"\u001b[39;00m\n\u001b[1;32m    808\u001b[0m \u001b[38;5;124;03mRead and return the response content.\u001b[39;00m\n\u001b[1;32m    809\u001b[0m \u001b[38;5;124;03m\"\"\"\u001b[39;00m\n\u001b[1;32m    810\u001b[0m \u001b[38;5;28;01mif\u001b[39;00m \u001b[38;5;129;01mnot\u001b[39;00m \u001b[38;5;28mhasattr\u001b[39m(\u001b[38;5;28mself\u001b[39m, \u001b[38;5;124m\"\u001b[39m\u001b[38;5;124m_content\u001b[39m\u001b[38;5;124m\"\u001b[39m):\n\u001b[0;32m--> 811\u001b[0m     \u001b[38;5;28mself\u001b[39m\u001b[38;5;241m.\u001b[39m_content \u001b[38;5;241m=\u001b[39m \u001b[38;5;124mb\u001b[39m\u001b[38;5;124m\"\u001b[39m\u001b[38;5;124m\"\u001b[39m\u001b[38;5;241m.\u001b[39mjoin(\u001b[38;5;28mself\u001b[39m\u001b[38;5;241m.\u001b[39miter_bytes())\n\u001b[1;32m    812\u001b[0m \u001b[38;5;28;01mreturn\u001b[39;00m \u001b[38;5;28mself\u001b[39m\u001b[38;5;241m.\u001b[39m_content\n",
      "File \u001b[0;32m~/miniconda3/envs/precision_rag_prompt_tuning/lib/python3.11/site-packages/httpx/_models.py:829\u001b[0m, in \u001b[0;36mResponse.iter_bytes\u001b[0;34m(self, chunk_size)\u001b[0m\n\u001b[1;32m    827\u001b[0m chunker \u001b[38;5;241m=\u001b[39m ByteChunker(chunk_size\u001b[38;5;241m=\u001b[39mchunk_size)\n\u001b[1;32m    828\u001b[0m \u001b[38;5;28;01mwith\u001b[39;00m request_context(request\u001b[38;5;241m=\u001b[39m\u001b[38;5;28mself\u001b[39m\u001b[38;5;241m.\u001b[39m_request):\n\u001b[0;32m--> 829\u001b[0m \u001b[43m    \u001b[49m\u001b[38;5;28;43;01mfor\u001b[39;49;00m\u001b[43m \u001b[49m\u001b[43mraw_bytes\u001b[49m\u001b[43m \u001b[49m\u001b[38;5;129;43;01min\u001b[39;49;00m\u001b[43m \u001b[49m\u001b[38;5;28;43mself\u001b[39;49m\u001b[38;5;241;43m.\u001b[39;49m\u001b[43miter_raw\u001b[49m\u001b[43m(\u001b[49m\u001b[43m)\u001b[49m\u001b[43m:\u001b[49m\n\u001b[1;32m    830\u001b[0m \u001b[43m        \u001b[49m\u001b[43mdecoded\u001b[49m\u001b[43m \u001b[49m\u001b[38;5;241;43m=\u001b[39;49m\u001b[43m \u001b[49m\u001b[43mdecoder\u001b[49m\u001b[38;5;241;43m.\u001b[39;49m\u001b[43mdecode\u001b[49m\u001b[43m(\u001b[49m\u001b[43mraw_bytes\u001b[49m\u001b[43m)\u001b[49m\n\u001b[1;32m    831\u001b[0m \u001b[43m        \u001b[49m\u001b[38;5;28;43;01mfor\u001b[39;49;00m\u001b[43m \u001b[49m\u001b[43mchunk\u001b[49m\u001b[43m \u001b[49m\u001b[38;5;129;43;01min\u001b[39;49;00m\u001b[43m \u001b[49m\u001b[43mchunker\u001b[49m\u001b[38;5;241;43m.\u001b[39;49m\u001b[43mdecode\u001b[49m\u001b[43m(\u001b[49m\u001b[43mdecoded\u001b[49m\u001b[43m)\u001b[49m\u001b[43m:\u001b[49m\n",
      "File \u001b[0;32m~/miniconda3/envs/precision_rag_prompt_tuning/lib/python3.11/site-packages/httpx/_models.py:887\u001b[0m, in \u001b[0;36mResponse.iter_raw\u001b[0;34m(self, chunk_size)\u001b[0m\n\u001b[1;32m    884\u001b[0m chunker \u001b[38;5;241m=\u001b[39m ByteChunker(chunk_size\u001b[38;5;241m=\u001b[39mchunk_size)\n\u001b[1;32m    886\u001b[0m \u001b[38;5;28;01mwith\u001b[39;00m request_context(request\u001b[38;5;241m=\u001b[39m\u001b[38;5;28mself\u001b[39m\u001b[38;5;241m.\u001b[39m_request):\n\u001b[0;32m--> 887\u001b[0m \u001b[43m    \u001b[49m\u001b[38;5;28;43;01mfor\u001b[39;49;00m\u001b[43m \u001b[49m\u001b[43mraw_stream_bytes\u001b[49m\u001b[43m \u001b[49m\u001b[38;5;129;43;01min\u001b[39;49;00m\u001b[43m \u001b[49m\u001b[38;5;28;43mself\u001b[39;49m\u001b[38;5;241;43m.\u001b[39;49m\u001b[43mstream\u001b[49m\u001b[43m:\u001b[49m\n\u001b[1;32m    888\u001b[0m \u001b[43m        \u001b[49m\u001b[38;5;28;43mself\u001b[39;49m\u001b[38;5;241;43m.\u001b[39;49m\u001b[43m_num_bytes_downloaded\u001b[49m\u001b[43m \u001b[49m\u001b[38;5;241;43m+\u001b[39;49m\u001b[38;5;241;43m=\u001b[39;49m\u001b[43m \u001b[49m\u001b[38;5;28;43mlen\u001b[39;49m\u001b[43m(\u001b[49m\u001b[43mraw_stream_bytes\u001b[49m\u001b[43m)\u001b[49m\n\u001b[1;32m    889\u001b[0m \u001b[43m        \u001b[49m\u001b[38;5;28;43;01mfor\u001b[39;49;00m\u001b[43m \u001b[49m\u001b[43mchunk\u001b[49m\u001b[43m \u001b[49m\u001b[38;5;129;43;01min\u001b[39;49;00m\u001b[43m \u001b[49m\u001b[43mchunker\u001b[49m\u001b[38;5;241;43m.\u001b[39;49m\u001b[43mdecode\u001b[49m\u001b[43m(\u001b[49m\u001b[43mraw_stream_bytes\u001b[49m\u001b[43m)\u001b[49m\u001b[43m:\u001b[49m\n",
      "File \u001b[0;32m~/miniconda3/envs/precision_rag_prompt_tuning/lib/python3.11/site-packages/httpx/_client.py:124\u001b[0m, in \u001b[0;36mBoundSyncStream.__iter__\u001b[0;34m(self)\u001b[0m\n\u001b[1;32m    123\u001b[0m \u001b[38;5;28;01mdef\u001b[39;00m \u001b[38;5;21m__iter__\u001b[39m(\u001b[38;5;28mself\u001b[39m) \u001b[38;5;241m-\u001b[39m\u001b[38;5;241m>\u001b[39m typing\u001b[38;5;241m.\u001b[39mIterator[\u001b[38;5;28mbytes\u001b[39m]:\n\u001b[0;32m--> 124\u001b[0m \u001b[43m    \u001b[49m\u001b[38;5;28;43;01mfor\u001b[39;49;00m\u001b[43m \u001b[49m\u001b[43mchunk\u001b[49m\u001b[43m \u001b[49m\u001b[38;5;129;43;01min\u001b[39;49;00m\u001b[43m \u001b[49m\u001b[38;5;28;43mself\u001b[39;49m\u001b[38;5;241;43m.\u001b[39;49m\u001b[43m_stream\u001b[49m\u001b[43m:\u001b[49m\n\u001b[1;32m    125\u001b[0m \u001b[43m        \u001b[49m\u001b[38;5;28;43;01myield\u001b[39;49;00m\u001b[43m \u001b[49m\u001b[43mchunk\u001b[49m\n",
      "File \u001b[0;32m~/miniconda3/envs/precision_rag_prompt_tuning/lib/python3.11/site-packages/httpx/_transports/default.py:111\u001b[0m, in \u001b[0;36mResponseStream.__iter__\u001b[0;34m(self)\u001b[0m\n\u001b[1;32m    109\u001b[0m \u001b[38;5;28;01mdef\u001b[39;00m \u001b[38;5;21m__iter__\u001b[39m(\u001b[38;5;28mself\u001b[39m) \u001b[38;5;241m-\u001b[39m\u001b[38;5;241m>\u001b[39m typing\u001b[38;5;241m.\u001b[39mIterator[\u001b[38;5;28mbytes\u001b[39m]:\n\u001b[1;32m    110\u001b[0m     \u001b[38;5;28;01mwith\u001b[39;00m map_httpcore_exceptions():\n\u001b[0;32m--> 111\u001b[0m \u001b[43m        \u001b[49m\u001b[38;5;28;43;01mfor\u001b[39;49;00m\u001b[43m \u001b[49m\u001b[43mpart\u001b[49m\u001b[43m \u001b[49m\u001b[38;5;129;43;01min\u001b[39;49;00m\u001b[43m \u001b[49m\u001b[38;5;28;43mself\u001b[39;49m\u001b[38;5;241;43m.\u001b[39;49m\u001b[43m_httpcore_stream\u001b[49m\u001b[43m:\u001b[49m\n\u001b[1;32m    112\u001b[0m \u001b[43m            \u001b[49m\u001b[38;5;28;43;01myield\u001b[39;49;00m\u001b[43m \u001b[49m\u001b[43mpart\u001b[49m\n",
      "File \u001b[0;32m~/miniconda3/envs/precision_rag_prompt_tuning/lib/python3.11/site-packages/httpcore/_sync/connection_pool.py:361\u001b[0m, in \u001b[0;36mConnectionPoolByteStream.__iter__\u001b[0;34m(self)\u001b[0m\n\u001b[1;32m    360\u001b[0m \u001b[38;5;28;01mdef\u001b[39;00m \u001b[38;5;21m__iter__\u001b[39m(\u001b[38;5;28mself\u001b[39m) \u001b[38;5;241m-\u001b[39m\u001b[38;5;241m>\u001b[39m Iterator[\u001b[38;5;28mbytes\u001b[39m]:\n\u001b[0;32m--> 361\u001b[0m \u001b[43m    \u001b[49m\u001b[38;5;28;43;01mfor\u001b[39;49;00m\u001b[43m \u001b[49m\u001b[43mpart\u001b[49m\u001b[43m \u001b[49m\u001b[38;5;129;43;01min\u001b[39;49;00m\u001b[43m \u001b[49m\u001b[38;5;28;43mself\u001b[39;49m\u001b[38;5;241;43m.\u001b[39;49m\u001b[43m_stream\u001b[49m\u001b[43m:\u001b[49m\n\u001b[1;32m    362\u001b[0m \u001b[43m        \u001b[49m\u001b[38;5;28;43;01myield\u001b[39;49;00m\u001b[43m \u001b[49m\u001b[43mpart\u001b[49m\n",
      "File \u001b[0;32m~/miniconda3/envs/precision_rag_prompt_tuning/lib/python3.11/site-packages/httpcore/_sync/http11.py:337\u001b[0m, in \u001b[0;36mHTTP11ConnectionByteStream.__iter__\u001b[0;34m(self)\u001b[0m\n\u001b[1;32m    335\u001b[0m \u001b[38;5;28;01mwith\u001b[39;00m ShieldCancellation():\n\u001b[1;32m    336\u001b[0m     \u001b[38;5;28mself\u001b[39m\u001b[38;5;241m.\u001b[39mclose()\n\u001b[0;32m--> 337\u001b[0m \u001b[38;5;28;01mraise\u001b[39;00m exc\n",
      "File \u001b[0;32m~/miniconda3/envs/precision_rag_prompt_tuning/lib/python3.11/site-packages/httpcore/_sync/http11.py:329\u001b[0m, in \u001b[0;36mHTTP11ConnectionByteStream.__iter__\u001b[0;34m(self)\u001b[0m\n\u001b[1;32m    327\u001b[0m \u001b[38;5;28;01mtry\u001b[39;00m:\n\u001b[1;32m    328\u001b[0m     \u001b[38;5;28;01mwith\u001b[39;00m Trace(\u001b[38;5;124m\"\u001b[39m\u001b[38;5;124mreceive_response_body\u001b[39m\u001b[38;5;124m\"\u001b[39m, logger, \u001b[38;5;28mself\u001b[39m\u001b[38;5;241m.\u001b[39m_request, kwargs):\n\u001b[0;32m--> 329\u001b[0m \u001b[43m        \u001b[49m\u001b[38;5;28;43;01mfor\u001b[39;49;00m\u001b[43m \u001b[49m\u001b[43mchunk\u001b[49m\u001b[43m \u001b[49m\u001b[38;5;129;43;01min\u001b[39;49;00m\u001b[43m \u001b[49m\u001b[38;5;28;43mself\u001b[39;49m\u001b[38;5;241;43m.\u001b[39;49m\u001b[43m_connection\u001b[49m\u001b[38;5;241;43m.\u001b[39;49m\u001b[43m_receive_response_body\u001b[49m\u001b[43m(\u001b[49m\u001b[38;5;241;43m*\u001b[39;49m\u001b[38;5;241;43m*\u001b[39;49m\u001b[43mkwargs\u001b[49m\u001b[43m)\u001b[49m\u001b[43m:\u001b[49m\n\u001b[1;32m    330\u001b[0m \u001b[43m            \u001b[49m\u001b[38;5;28;43;01myield\u001b[39;49;00m\u001b[43m \u001b[49m\u001b[43mchunk\u001b[49m\n\u001b[1;32m    331\u001b[0m \u001b[38;5;28;01mexcept\u001b[39;00m \u001b[38;5;167;01mBaseException\u001b[39;00m \u001b[38;5;28;01mas\u001b[39;00m exc:\n\u001b[1;32m    332\u001b[0m     \u001b[38;5;66;03m# If we get an exception while streaming the response,\u001b[39;00m\n\u001b[1;32m    333\u001b[0m     \u001b[38;5;66;03m# we want to close the response (and possibly the connection)\u001b[39;00m\n\u001b[1;32m    334\u001b[0m     \u001b[38;5;66;03m# before raising that exception.\u001b[39;00m\n",
      "File \u001b[0;32m~/miniconda3/envs/precision_rag_prompt_tuning/lib/python3.11/site-packages/httpcore/_sync/http11.py:198\u001b[0m, in \u001b[0;36mHTTP11Connection._receive_response_body\u001b[0;34m(self, request)\u001b[0m\n\u001b[1;32m    195\u001b[0m timeout \u001b[38;5;241m=\u001b[39m timeouts\u001b[38;5;241m.\u001b[39mget(\u001b[38;5;124m\"\u001b[39m\u001b[38;5;124mread\u001b[39m\u001b[38;5;124m\"\u001b[39m, \u001b[38;5;28;01mNone\u001b[39;00m)\n\u001b[1;32m    197\u001b[0m \u001b[38;5;28;01mwhile\u001b[39;00m \u001b[38;5;28;01mTrue\u001b[39;00m:\n\u001b[0;32m--> 198\u001b[0m     event \u001b[38;5;241m=\u001b[39m \u001b[38;5;28;43mself\u001b[39;49m\u001b[38;5;241;43m.\u001b[39;49m\u001b[43m_receive_event\u001b[49m\u001b[43m(\u001b[49m\u001b[43mtimeout\u001b[49m\u001b[38;5;241;43m=\u001b[39;49m\u001b[43mtimeout\u001b[49m\u001b[43m)\u001b[49m\n\u001b[1;32m    199\u001b[0m     \u001b[38;5;28;01mif\u001b[39;00m \u001b[38;5;28misinstance\u001b[39m(event, h11\u001b[38;5;241m.\u001b[39mData):\n\u001b[1;32m    200\u001b[0m         \u001b[38;5;28;01myield\u001b[39;00m \u001b[38;5;28mbytes\u001b[39m(event\u001b[38;5;241m.\u001b[39mdata)\n",
      "File \u001b[0;32m~/miniconda3/envs/precision_rag_prompt_tuning/lib/python3.11/site-packages/httpcore/_sync/http11.py:212\u001b[0m, in \u001b[0;36mHTTP11Connection._receive_event\u001b[0;34m(self, timeout)\u001b[0m\n\u001b[1;32m    209\u001b[0m     event \u001b[38;5;241m=\u001b[39m \u001b[38;5;28mself\u001b[39m\u001b[38;5;241m.\u001b[39m_h11_state\u001b[38;5;241m.\u001b[39mnext_event()\n\u001b[1;32m    211\u001b[0m \u001b[38;5;28;01mif\u001b[39;00m event \u001b[38;5;129;01mis\u001b[39;00m h11\u001b[38;5;241m.\u001b[39mNEED_DATA:\n\u001b[0;32m--> 212\u001b[0m     data \u001b[38;5;241m=\u001b[39m \u001b[38;5;28;43mself\u001b[39;49m\u001b[38;5;241;43m.\u001b[39;49m\u001b[43m_network_stream\u001b[49m\u001b[38;5;241;43m.\u001b[39;49m\u001b[43mread\u001b[49m\u001b[43m(\u001b[49m\n\u001b[1;32m    213\u001b[0m \u001b[43m        \u001b[49m\u001b[38;5;28;43mself\u001b[39;49m\u001b[38;5;241;43m.\u001b[39;49m\u001b[43mREAD_NUM_BYTES\u001b[49m\u001b[43m,\u001b[49m\u001b[43m \u001b[49m\u001b[43mtimeout\u001b[49m\u001b[38;5;241;43m=\u001b[39;49m\u001b[43mtimeout\u001b[49m\n\u001b[1;32m    214\u001b[0m \u001b[43m    \u001b[49m\u001b[43m)\u001b[49m\n\u001b[1;32m    216\u001b[0m     \u001b[38;5;66;03m# If we feed this case through h11 we'll raise an exception like:\u001b[39;00m\n\u001b[1;32m    217\u001b[0m     \u001b[38;5;66;03m#\u001b[39;00m\n\u001b[1;32m    218\u001b[0m     \u001b[38;5;66;03m#     httpcore.RemoteProtocolError: can't handle event type\u001b[39;00m\n\u001b[0;32m   (...)\u001b[0m\n\u001b[1;32m    222\u001b[0m     \u001b[38;5;66;03m# perspective. Instead we handle this case distinctly and treat\u001b[39;00m\n\u001b[1;32m    223\u001b[0m     \u001b[38;5;66;03m# it as a ConnectError.\u001b[39;00m\n\u001b[1;32m    224\u001b[0m     \u001b[38;5;28;01mif\u001b[39;00m data \u001b[38;5;241m==\u001b[39m \u001b[38;5;124mb\u001b[39m\u001b[38;5;124m\"\u001b[39m\u001b[38;5;124m\"\u001b[39m \u001b[38;5;129;01mand\u001b[39;00m \u001b[38;5;28mself\u001b[39m\u001b[38;5;241m.\u001b[39m_h11_state\u001b[38;5;241m.\u001b[39mtheir_state \u001b[38;5;241m==\u001b[39m h11\u001b[38;5;241m.\u001b[39mSEND_RESPONSE:\n",
      "File \u001b[0;32m~/miniconda3/envs/precision_rag_prompt_tuning/lib/python3.11/site-packages/httpcore/_backends/sync.py:126\u001b[0m, in \u001b[0;36mSyncStream.read\u001b[0;34m(self, max_bytes, timeout)\u001b[0m\n\u001b[1;32m    124\u001b[0m \u001b[38;5;28;01mwith\u001b[39;00m map_exceptions(exc_map):\n\u001b[1;32m    125\u001b[0m     \u001b[38;5;28mself\u001b[39m\u001b[38;5;241m.\u001b[39m_sock\u001b[38;5;241m.\u001b[39msettimeout(timeout)\n\u001b[0;32m--> 126\u001b[0m     \u001b[38;5;28;01mreturn\u001b[39;00m \u001b[38;5;28;43mself\u001b[39;49m\u001b[38;5;241;43m.\u001b[39;49m\u001b[43m_sock\u001b[49m\u001b[38;5;241;43m.\u001b[39;49m\u001b[43mrecv\u001b[49m\u001b[43m(\u001b[49m\u001b[43mmax_bytes\u001b[49m\u001b[43m)\u001b[49m\n",
      "File \u001b[0;32m~/miniconda3/envs/precision_rag_prompt_tuning/lib/python3.11/ssl.py:1296\u001b[0m, in \u001b[0;36mSSLSocket.recv\u001b[0;34m(self, buflen, flags)\u001b[0m\n\u001b[1;32m   1292\u001b[0m     \u001b[38;5;28;01mif\u001b[39;00m flags \u001b[38;5;241m!=\u001b[39m \u001b[38;5;241m0\u001b[39m:\n\u001b[1;32m   1293\u001b[0m         \u001b[38;5;28;01mraise\u001b[39;00m \u001b[38;5;167;01mValueError\u001b[39;00m(\n\u001b[1;32m   1294\u001b[0m             \u001b[38;5;124m\"\u001b[39m\u001b[38;5;124mnon-zero flags not allowed in calls to recv() on \u001b[39m\u001b[38;5;132;01m%s\u001b[39;00m\u001b[38;5;124m\"\u001b[39m \u001b[38;5;241m%\u001b[39m\n\u001b[1;32m   1295\u001b[0m             \u001b[38;5;28mself\u001b[39m\u001b[38;5;241m.\u001b[39m\u001b[38;5;18m__class__\u001b[39m)\n\u001b[0;32m-> 1296\u001b[0m     \u001b[38;5;28;01mreturn\u001b[39;00m \u001b[38;5;28;43mself\u001b[39;49m\u001b[38;5;241;43m.\u001b[39;49m\u001b[43mread\u001b[49m\u001b[43m(\u001b[49m\u001b[43mbuflen\u001b[49m\u001b[43m)\u001b[49m\n\u001b[1;32m   1297\u001b[0m \u001b[38;5;28;01melse\u001b[39;00m:\n\u001b[1;32m   1298\u001b[0m     \u001b[38;5;28;01mreturn\u001b[39;00m \u001b[38;5;28msuper\u001b[39m()\u001b[38;5;241m.\u001b[39mrecv(buflen, flags)\n",
      "File \u001b[0;32m~/miniconda3/envs/precision_rag_prompt_tuning/lib/python3.11/ssl.py:1169\u001b[0m, in \u001b[0;36mSSLSocket.read\u001b[0;34m(self, len, buffer)\u001b[0m\n\u001b[1;32m   1167\u001b[0m         \u001b[38;5;28;01mreturn\u001b[39;00m \u001b[38;5;28mself\u001b[39m\u001b[38;5;241m.\u001b[39m_sslobj\u001b[38;5;241m.\u001b[39mread(\u001b[38;5;28mlen\u001b[39m, buffer)\n\u001b[1;32m   1168\u001b[0m     \u001b[38;5;28;01melse\u001b[39;00m:\n\u001b[0;32m-> 1169\u001b[0m         \u001b[38;5;28;01mreturn\u001b[39;00m \u001b[38;5;28;43mself\u001b[39;49m\u001b[38;5;241;43m.\u001b[39;49m\u001b[43m_sslobj\u001b[49m\u001b[38;5;241;43m.\u001b[39;49m\u001b[43mread\u001b[49m\u001b[43m(\u001b[49m\u001b[38;5;28;43mlen\u001b[39;49m\u001b[43m)\u001b[49m\n\u001b[1;32m   1170\u001b[0m \u001b[38;5;28;01mexcept\u001b[39;00m SSLError \u001b[38;5;28;01mas\u001b[39;00m x:\n\u001b[1;32m   1171\u001b[0m     \u001b[38;5;28;01mif\u001b[39;00m x\u001b[38;5;241m.\u001b[39margs[\u001b[38;5;241m0\u001b[39m] \u001b[38;5;241m==\u001b[39m SSL_ERROR_EOF \u001b[38;5;129;01mand\u001b[39;00m \u001b[38;5;28mself\u001b[39m\u001b[38;5;241m.\u001b[39msuppress_ragged_eofs:\n",
      "\u001b[0;31mKeyboardInterrupt\u001b[0m: "
     ]
    }
   ],
   "source": [
    "parent_document_retriever.add_documents(base_docs)\n"
   ]
  },
  {
   "cell_type": "markdown",
   "metadata": {},
   "source": [
    "Lets test the chain using the created retriever"
   ]
  },
  {
   "cell_type": "code",
   "execution_count": 101,
   "metadata": {},
   "outputs": [
    {
     "data": {
      "text/plain": [
       "'RAG refers to the Hybrid Retrieval-Augmented Generation (HybridRAG) framework.'"
      ]
     },
     "execution_count": 101,
     "metadata": {},
     "output_type": "execute_result"
    }
   ],
   "source": [
    "parent_document_retriever_qa_chain = create_qa_chain(parent_document_retriever)\n",
    "parent_document_retriever_qa_chain.invoke(\"What is RAG?\")[\"response\"].content"
   ]
  },
  {
   "cell_type": "code",
   "execution_count": 102,
   "metadata": {},
   "outputs": [
    {
     "name": "stderr",
     "output_type": "stream",
     "text": [
      "100%|██████████| 10/10 [00:19<00:00,  1.98s/it]\n",
      "Creating CSV from Arrow format: 100%|██████████| 1/1 [00:00<00:00, 131.06ba/s]\n"
     ]
    },
    {
     "data": {
      "text/plain": [
       "60073"
      ]
     },
     "execution_count": 102,
     "metadata": {},
     "output_type": "execute_result"
    }
   ],
   "source": [
    "pdr_qa_ragas_dataset = create_ragas_dataset(parent_document_retriever_qa_chain, eval_dataset)\n",
    "pdr_qa_ragas_dataset.to_csv(\"pdr_qa_ragas_dataset.csv\")"
   ]
  },
  {
   "cell_type": "code",
   "execution_count": 103,
   "metadata": {},
   "outputs": [
    {
     "name": "stdout",
     "output_type": "stream",
     "text": [
      "evaluating with [context_precision]\n"
     ]
    },
    {
     "name": "stderr",
     "output_type": "stream",
     "text": [
      "100%|██████████| 1/1 [00:07<00:00,  7.85s/it]\n"
     ]
    },
    {
     "name": "stdout",
     "output_type": "stream",
     "text": [
      "evaluating with [faithfulness]\n"
     ]
    },
    {
     "name": "stderr",
     "output_type": "stream",
     "text": [
      "100%|██████████| 1/1 [00:26<00:00, 26.22s/it]\n"
     ]
    },
    {
     "name": "stdout",
     "output_type": "stream",
     "text": [
      "evaluating with [answer_relevancy]\n"
     ]
    },
    {
     "name": "stderr",
     "output_type": "stream",
     "text": [
      "100%|██████████| 1/1 [00:16<00:00, 16.88s/it]\n"
     ]
    },
    {
     "name": "stdout",
     "output_type": "stream",
     "text": [
      "evaluating with [context_recall]\n"
     ]
    },
    {
     "name": "stderr",
     "output_type": "stream",
     "text": [
      "100%|██████████| 1/1 [00:20<00:00, 20.98s/it]\n"
     ]
    },
    {
     "name": "stdout",
     "output_type": "stream",
     "text": [
      "evaluating with [context_relevancy]\n"
     ]
    },
    {
     "name": "stderr",
     "output_type": "stream",
     "text": [
      "100%|██████████| 1/1 [00:18<00:00, 18.22s/it]\n"
     ]
    },
    {
     "name": "stdout",
     "output_type": "stream",
     "text": [
      "evaluating with [answer_correctness]\n"
     ]
    },
    {
     "name": "stderr",
     "output_type": "stream",
     "text": [
      "100%|██████████| 1/1 [00:19<00:00, 19.77s/it]\n"
     ]
    },
    {
     "name": "stdout",
     "output_type": "stream",
     "text": [
      "evaluating with [answer_similarity]\n"
     ]
    },
    {
     "name": "stderr",
     "output_type": "stream",
     "text": [
      "100%|██████████| 1/1 [00:01<00:00,  1.76s/it]\n"
     ]
    },
    {
     "data": {
      "text/plain": [
       "{'context_precision': 0.2583, 'faithfulness': 0.4917, 'answer_relevancy': 0.9938, 'context_recall': 0.9000, 'context_relevancy': 0.0151, 'answer_correctness': 0.4939, 'answer_similarity': 0.8955}"
      ]
     },
     "execution_count": 103,
     "metadata": {},
     "output_type": "execute_result"
    }
   ],
   "source": [
    "pdr_qa_result = evaluate_ragas_dataset(pdr_qa_ragas_dataset)\n",
    "pdr_qa_result\n"
   ]
  },
  {
   "cell_type": "markdown",
   "metadata": {},
   "source": [
    "#### Ensembe retriever"
   ]
  },
  {
   "cell_type": "code",
   "execution_count": 94,
   "metadata": {},
   "outputs": [
    {
     "name": "stdout",
     "output_type": "stream",
     "text": [
      "Note: you may need to restart the kernel to use updated packages.\n"
     ]
    }
   ],
   "source": [
    "%pip install -q -U rank_bm25"
   ]
  },
  {
   "cell_type": "code",
   "execution_count": 104,
   "metadata": {},
   "outputs": [],
   "source": [
    "from langchain.retrievers import BM25Retriever, EnsembleRetriever\n",
    "\n",
    "text_splitter = RecursiveCharacterTextSplitter(chunk_size=450, chunk_overlap=75)\n",
    "docs = text_splitter.split_documents(base_docs)\n",
    "\n",
    "bm25_retriever = BM25Retriever.from_documents(docs)\n",
    "bm25_retriever.k = 2\n",
    "\n",
    "embedding = OpenAIEmbeddings()\n",
    "vectorstore = Chroma.from_documents(docs, embedding)\n",
    "chroma_retriever = vectorstore.as_retriever(search_kwargs={\"k\": 3})\n",
    "\n",
    "ensemble_retriever = EnsembleRetriever(retrievers=[bm25_retriever, chroma_retriever], weights=[0.75, 0.25])"
   ]
  },
  {
   "cell_type": "code",
   "execution_count": 105,
   "metadata": {},
   "outputs": [
    {
     "data": {
      "text/plain": [
       "'RAG stands for Retrieval Augmented Generation.'"
      ]
     },
     "execution_count": 105,
     "metadata": {},
     "output_type": "execute_result"
    }
   ],
   "source": [
    "ensemble_retriever_qa_chain = create_qa_chain(ensemble_retriever)\n",
    "ensemble_retriever_qa_chain.invoke( \"What is RAG?\")[\"response\"].content"
   ]
  },
  {
   "cell_type": "code",
   "execution_count": 106,
   "metadata": {},
   "outputs": [
    {
     "name": "stderr",
     "output_type": "stream",
     "text": [
      "100%|██████████| 10/10 [00:17<00:00,  1.77s/it]\n",
      "Creating CSV from Arrow format: 100%|██████████| 1/1 [00:00<00:00, 278.86ba/s]\n"
     ]
    },
    {
     "data": {
      "text/plain": [
       "24719"
      ]
     },
     "execution_count": 106,
     "metadata": {},
     "output_type": "execute_result"
    }
   ],
   "source": [
    "ensemble_qa_ragas_dataset = create_ragas_dataset(ensemble_retriever_qa_chain, eval_dataset)\n",
    "ensemble_qa_ragas_dataset.to_csv(\"ensemble_qa_ragas_dataset.csv\")"
   ]
  },
  {
   "cell_type": "code",
   "execution_count": 107,
   "metadata": {},
   "outputs": [
    {
     "name": "stdout",
     "output_type": "stream",
     "text": [
      "evaluating with [context_precision]\n"
     ]
    },
    {
     "name": "stderr",
     "output_type": "stream",
     "text": [
      "100%|██████████| 1/1 [00:11<00:00, 11.14s/it]\n"
     ]
    },
    {
     "name": "stdout",
     "output_type": "stream",
     "text": [
      "evaluating with [faithfulness]\n"
     ]
    },
    {
     "name": "stderr",
     "output_type": "stream",
     "text": [
      "100%|██████████| 1/1 [00:13<00:00, 13.86s/it]\n"
     ]
    },
    {
     "name": "stdout",
     "output_type": "stream",
     "text": [
      "evaluating with [answer_relevancy]\n"
     ]
    },
    {
     "name": "stderr",
     "output_type": "stream",
     "text": [
      "100%|██████████| 1/1 [00:12<00:00, 12.51s/it]\n"
     ]
    },
    {
     "name": "stdout",
     "output_type": "stream",
     "text": [
      "evaluating with [context_recall]\n"
     ]
    },
    {
     "name": "stderr",
     "output_type": "stream",
     "text": [
      "100%|██████████| 1/1 [00:20<00:00, 20.92s/it]\n"
     ]
    },
    {
     "name": "stdout",
     "output_type": "stream",
     "text": [
      "evaluating with [context_relevancy]\n"
     ]
    },
    {
     "name": "stderr",
     "output_type": "stream",
     "text": [
      "100%|██████████| 1/1 [00:07<00:00,  7.11s/it]\n"
     ]
    },
    {
     "name": "stdout",
     "output_type": "stream",
     "text": [
      "evaluating with [answer_correctness]\n"
     ]
    },
    {
     "name": "stderr",
     "output_type": "stream",
     "text": [
      "100%|██████████| 1/1 [00:16<00:00, 16.43s/it]\n"
     ]
    },
    {
     "name": "stdout",
     "output_type": "stream",
     "text": [
      "evaluating with [answer_similarity]\n"
     ]
    },
    {
     "name": "stderr",
     "output_type": "stream",
     "text": [
      "100%|██████████| 1/1 [00:01<00:00,  1.57s/it]\n"
     ]
    },
    {
     "data": {
      "text/plain": [
       "{'context_precision': 0.7087, 'faithfulness': 0.5333, 'answer_relevancy': 0.8980, 'context_recall': 0.8000, 'context_relevancy': 0.0188, 'answer_correctness': 0.3826, 'answer_similarity': 0.8835}"
      ]
     },
     "execution_count": 107,
     "metadata": {},
     "output_type": "execute_result"
    }
   ],
   "source": [
    "ensemble_qa_result = evaluate_ragas_dataset(ensemble_qa_ragas_dataset)\n",
    "ensemble_qa_result"
   ]
  },
  {
   "cell_type": "code",
   "execution_count": 108,
   "metadata": {},
   "outputs": [
    {
     "data": {
      "text/plain": [
       "{'context_precision': 0.3000, 'faithfulness': 0.3000, 'answer_relevancy': 1.0000, 'context_recall': 0.8667, 'context_relevancy': 0.0664, 'answer_correctness': 0.4830, 'answer_similarity': 0.8857}"
      ]
     },
     "execution_count": 108,
     "metadata": {},
     "output_type": "execute_result"
    }
   ],
   "source": [
    "basic_qa_result"
   ]
  },
  {
   "cell_type": "code",
   "execution_count": 109,
   "metadata": {},
   "outputs": [
    {
     "data": {
      "text/plain": [
       "{'context_precision': 0.2583, 'faithfulness': 0.4917, 'answer_relevancy': 0.9938, 'context_recall': 0.9000, 'context_relevancy': 0.0151, 'answer_correctness': 0.4939, 'answer_similarity': 0.8955}"
      ]
     },
     "execution_count": 109,
     "metadata": {},
     "output_type": "execute_result"
    }
   ],
   "source": [
    "pdr_qa_result"
   ]
  },
  {
   "cell_type": "code",
   "execution_count": null,
   "metadata": {},
   "outputs": [],
   "source": []
  }
 ],
 "metadata": {
  "kernelspec": {
   "display_name": "precision_rag_prompt_tuning",
   "language": "python",
   "name": "python3"
  },
  "language_info": {
   "codemirror_mode": {
    "name": "ipython",
    "version": 3
   },
   "file_extension": ".py",
   "mimetype": "text/x-python",
   "name": "python",
   "nbconvert_exporter": "python",
   "pygments_lexer": "ipython3",
   "version": "3.11.7"
  }
 },
 "nbformat": 4,
 "nbformat_minor": 2
}
